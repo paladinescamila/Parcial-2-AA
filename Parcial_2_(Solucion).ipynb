{
  "nbformat": 4,
  "nbformat_minor": 0,
  "metadata": {
    "colab": {
      "name": "Parcial_2_AA_V2.ipynb",
      "provenance": [],
      "collapsed_sections": []
    },
    "kernelspec": {
      "display_name": "Python 3",
      "name": "python3"
    },
    "language_info": {
      "name": "python"
    }
  },
  "cells": [
    {
      "cell_type": "markdown",
      "metadata": {
        "id": "ZSqJEcPBHSLG"
      },
      "source": [
        "# **Segundo Examen Parcial**\n",
        "## **Aprendizaje Automático y Análisis de Datos**\n",
        "\n",
        "*Mayo 3 de 2021*\n",
        "- Nicolás Delgado,  ```nsdr1228 <at> gmail.com```\n",
        "- Camila Paladines,  ```camilapaladines27 <at> gmail.com```\n",
        "\n",
        "\n",
        "Para el correcto funcionamiento del código, debe instalarse la librería *imblearn* en su versión ```0.6.2```, ya que será usada en la segunda y tercera iteración, con el objetivo de balancear las clases, haciendo over-sampling de la clase minoritaria.\n",
        "\n",
        "> **NOTA:** Debe tenerse bastante cuidado de que ***NO*** se vaya a actualizar la librería de scikit-learn (sklearn), ya que hay problemas con *SearchGridCV* en versiones posteriores a la ```0.22.2``` (esta es la que trae por defecto Google Colab)"
      ]
    },
    {
      "cell_type": "code",
      "metadata": {
        "id": "3YlECx8FMwyq"
      },
      "source": [
        "# Si se ejecuta desde colab, puede correrse la siguiente instrucción para instalar la librería\n",
        "!pip install imbalanced-learn==0.6.2"
      ],
      "execution_count": null,
      "outputs": []
    },
    {
      "cell_type": "markdown",
      "metadata": {
        "id": "iEcoyryGZ5Xh"
      },
      "source": [
        "## **Primera iteración**"
      ]
    },
    {
      "cell_type": "markdown",
      "metadata": {
        "id": "Z9XmPKYqgeog"
      },
      "source": [
        "### **Entendimiento y preparación de los datos**"
      ]
    },
    {
      "cell_type": "code",
      "metadata": {
        "colab": {
          "base_uri": "https://localhost:8080/",
          "height": 489
        },
        "id": "QjfgmA7gZnMN",
        "outputId": "2af915b3-606c-457f-eab6-8cf688e45c9b"
      },
      "source": [
        "# Importación de librerías\n",
        "import numpy as np\n",
        "import pandas as pd\n",
        "import matplotlib.pyplot as plt\n",
        "from scipy import stats\n",
        "from seaborn import heatmap, barplot\n",
        "from sklearn.preprocessing import scale, LabelEncoder, quantile_transform\n",
        "from sklearn.model_selection import train_test_split, GridSearchCV\n",
        "from sklearn.linear_model import LogisticRegression\n",
        "from sklearn import neighbors\n",
        "from sklearn.neighbors import KNeighborsClassifier\n",
        "from sklearn.discriminant_analysis import LinearDiscriminantAnalysis, QuadraticDiscriminantAnalysis\n",
        "from sklearn.metrics import confusion_matrix, precision_recall_fscore_support, classification_report, precision_score, recall_score, f1_score, accuracy_score\n",
        "from sklearn.neural_network import MLPClassifier\n",
        "from sklearn.svm import SVC\n",
        "from sklearn.metrics import plot_confusion_matrix\n",
        "from copy import deepcopy\n",
        "from imblearn.over_sampling import SMOTE\n",
        "\n",
        "# Nombres de los atributos numéricos y categóricos\n",
        "numeric_att = ['age', 'bp', 'sg', 'al', 'su','bgr', 'bu', 'sc', 'sod', 'pot', \n",
        "               'hemo', 'pcv', 'wbcc', 'rbcc']\n",
        "\n",
        "categorical_att = ['rbc', 'pc', 'pcc', 'ba', 'htn', 'dm', 'cad', 'appet', 'pe', \n",
        "                   'ane', 'class']\n",
        "\n",
        "# Carga los datos (desde un repositorio en GitHub)\n",
        "url=\"https://raw.githubusercontent.com/paladinescamila/Parcial-2-AA/main/data.csv\"\n",
        "data = pd.read_csv(url, header=None)\n",
        "\n",
        "data.columns = [\"age\", \"bp\", \"sg\", \"al\", \"su\", \"rbc\", \"pc\", \"pcc\", \"ba\", \"bgr\", \n",
        "                \"bu\", \"sc\", \"sod\", \"pot\", \"hemo\", \"pcv\", \"wbcc\", \"rbcc\", \"htn\", \n",
        "                \"dm\", \"cad\", \"appet\", \"pe\", \"ane\", \"class\"]\n",
        "\n",
        "data"
      ],
      "execution_count": null,
      "outputs": [
        {
          "output_type": "stream",
          "text": [
            "/usr/local/lib/python3.7/dist-packages/sklearn/externals/six.py:31: FutureWarning: The module is deprecated in version 0.21 and will be removed in version 0.23 since we've dropped support for Python 2.7. Please rely on the official version of six (https://pypi.org/project/six/).\n",
            "  \"(https://pypi.org/project/six/).\", FutureWarning)\n",
            "/usr/local/lib/python3.7/dist-packages/sklearn/utils/deprecation.py:144: FutureWarning: The sklearn.neighbors.base module is  deprecated in version 0.22 and will be removed in version 0.24. The corresponding classes / functions should instead be imported from sklearn.neighbors. Anything that cannot be imported from sklearn.neighbors is now part of the private API.\n",
            "  warnings.warn(message, FutureWarning)\n"
          ],
          "name": "stderr"
        },
        {
          "output_type": "execute_result",
          "data": {
            "text/html": [
              "<div>\n",
              "<style scoped>\n",
              "    .dataframe tbody tr th:only-of-type {\n",
              "        vertical-align: middle;\n",
              "    }\n",
              "\n",
              "    .dataframe tbody tr th {\n",
              "        vertical-align: top;\n",
              "    }\n",
              "\n",
              "    .dataframe thead th {\n",
              "        text-align: right;\n",
              "    }\n",
              "</style>\n",
              "<table border=\"1\" class=\"dataframe\">\n",
              "  <thead>\n",
              "    <tr style=\"text-align: right;\">\n",
              "      <th></th>\n",
              "      <th>age</th>\n",
              "      <th>bp</th>\n",
              "      <th>sg</th>\n",
              "      <th>al</th>\n",
              "      <th>su</th>\n",
              "      <th>rbc</th>\n",
              "      <th>pc</th>\n",
              "      <th>pcc</th>\n",
              "      <th>ba</th>\n",
              "      <th>bgr</th>\n",
              "      <th>bu</th>\n",
              "      <th>sc</th>\n",
              "      <th>sod</th>\n",
              "      <th>pot</th>\n",
              "      <th>hemo</th>\n",
              "      <th>pcv</th>\n",
              "      <th>wbcc</th>\n",
              "      <th>rbcc</th>\n",
              "      <th>htn</th>\n",
              "      <th>dm</th>\n",
              "      <th>cad</th>\n",
              "      <th>appet</th>\n",
              "      <th>pe</th>\n",
              "      <th>ane</th>\n",
              "      <th>class</th>\n",
              "    </tr>\n",
              "  </thead>\n",
              "  <tbody>\n",
              "    <tr>\n",
              "      <th>0</th>\n",
              "      <td>48</td>\n",
              "      <td>80</td>\n",
              "      <td>1.020</td>\n",
              "      <td>1</td>\n",
              "      <td>0</td>\n",
              "      <td>?</td>\n",
              "      <td>normal</td>\n",
              "      <td>notpresent</td>\n",
              "      <td>notpresent</td>\n",
              "      <td>121</td>\n",
              "      <td>36</td>\n",
              "      <td>1.2</td>\n",
              "      <td>?</td>\n",
              "      <td>?</td>\n",
              "      <td>15.4</td>\n",
              "      <td>44</td>\n",
              "      <td>7800</td>\n",
              "      <td>5.2</td>\n",
              "      <td>yes</td>\n",
              "      <td>yes</td>\n",
              "      <td>no</td>\n",
              "      <td>good</td>\n",
              "      <td>no</td>\n",
              "      <td>no</td>\n",
              "      <td>ckd</td>\n",
              "    </tr>\n",
              "    <tr>\n",
              "      <th>1</th>\n",
              "      <td>7</td>\n",
              "      <td>50</td>\n",
              "      <td>1.020</td>\n",
              "      <td>4</td>\n",
              "      <td>0</td>\n",
              "      <td>?</td>\n",
              "      <td>normal</td>\n",
              "      <td>notpresent</td>\n",
              "      <td>notpresent</td>\n",
              "      <td>?</td>\n",
              "      <td>18</td>\n",
              "      <td>0.8</td>\n",
              "      <td>?</td>\n",
              "      <td>?</td>\n",
              "      <td>11.3</td>\n",
              "      <td>38</td>\n",
              "      <td>6000</td>\n",
              "      <td>?</td>\n",
              "      <td>no</td>\n",
              "      <td>no</td>\n",
              "      <td>no</td>\n",
              "      <td>good</td>\n",
              "      <td>no</td>\n",
              "      <td>no</td>\n",
              "      <td>ckd</td>\n",
              "    </tr>\n",
              "    <tr>\n",
              "      <th>2</th>\n",
              "      <td>62</td>\n",
              "      <td>80</td>\n",
              "      <td>1.010</td>\n",
              "      <td>2</td>\n",
              "      <td>3</td>\n",
              "      <td>normal</td>\n",
              "      <td>normal</td>\n",
              "      <td>notpresent</td>\n",
              "      <td>notpresent</td>\n",
              "      <td>423</td>\n",
              "      <td>53</td>\n",
              "      <td>1.8</td>\n",
              "      <td>?</td>\n",
              "      <td>?</td>\n",
              "      <td>9.6</td>\n",
              "      <td>31</td>\n",
              "      <td>7500</td>\n",
              "      <td>?</td>\n",
              "      <td>no</td>\n",
              "      <td>yes</td>\n",
              "      <td>no</td>\n",
              "      <td>poor</td>\n",
              "      <td>no</td>\n",
              "      <td>yes</td>\n",
              "      <td>ckd</td>\n",
              "    </tr>\n",
              "    <tr>\n",
              "      <th>3</th>\n",
              "      <td>48</td>\n",
              "      <td>70</td>\n",
              "      <td>1.005</td>\n",
              "      <td>4</td>\n",
              "      <td>0</td>\n",
              "      <td>normal</td>\n",
              "      <td>abnormal</td>\n",
              "      <td>present</td>\n",
              "      <td>notpresent</td>\n",
              "      <td>117</td>\n",
              "      <td>56</td>\n",
              "      <td>3.8</td>\n",
              "      <td>111</td>\n",
              "      <td>2.5</td>\n",
              "      <td>11.2</td>\n",
              "      <td>32</td>\n",
              "      <td>6700</td>\n",
              "      <td>3.9</td>\n",
              "      <td>yes</td>\n",
              "      <td>no</td>\n",
              "      <td>no</td>\n",
              "      <td>poor</td>\n",
              "      <td>yes</td>\n",
              "      <td>yes</td>\n",
              "      <td>ckd</td>\n",
              "    </tr>\n",
              "    <tr>\n",
              "      <th>4</th>\n",
              "      <td>51</td>\n",
              "      <td>80</td>\n",
              "      <td>1.010</td>\n",
              "      <td>2</td>\n",
              "      <td>0</td>\n",
              "      <td>normal</td>\n",
              "      <td>normal</td>\n",
              "      <td>notpresent</td>\n",
              "      <td>notpresent</td>\n",
              "      <td>106</td>\n",
              "      <td>26</td>\n",
              "      <td>1.4</td>\n",
              "      <td>?</td>\n",
              "      <td>?</td>\n",
              "      <td>11.6</td>\n",
              "      <td>35</td>\n",
              "      <td>7300</td>\n",
              "      <td>4.6</td>\n",
              "      <td>no</td>\n",
              "      <td>no</td>\n",
              "      <td>no</td>\n",
              "      <td>good</td>\n",
              "      <td>no</td>\n",
              "      <td>no</td>\n",
              "      <td>ckd</td>\n",
              "    </tr>\n",
              "    <tr>\n",
              "      <th>...</th>\n",
              "      <td>...</td>\n",
              "      <td>...</td>\n",
              "      <td>...</td>\n",
              "      <td>...</td>\n",
              "      <td>...</td>\n",
              "      <td>...</td>\n",
              "      <td>...</td>\n",
              "      <td>...</td>\n",
              "      <td>...</td>\n",
              "      <td>...</td>\n",
              "      <td>...</td>\n",
              "      <td>...</td>\n",
              "      <td>...</td>\n",
              "      <td>...</td>\n",
              "      <td>...</td>\n",
              "      <td>...</td>\n",
              "      <td>...</td>\n",
              "      <td>...</td>\n",
              "      <td>...</td>\n",
              "      <td>...</td>\n",
              "      <td>...</td>\n",
              "      <td>...</td>\n",
              "      <td>...</td>\n",
              "      <td>...</td>\n",
              "      <td>...</td>\n",
              "    </tr>\n",
              "    <tr>\n",
              "      <th>395</th>\n",
              "      <td>55</td>\n",
              "      <td>80</td>\n",
              "      <td>1.020</td>\n",
              "      <td>0</td>\n",
              "      <td>0</td>\n",
              "      <td>normal</td>\n",
              "      <td>normal</td>\n",
              "      <td>notpresent</td>\n",
              "      <td>notpresent</td>\n",
              "      <td>140</td>\n",
              "      <td>49</td>\n",
              "      <td>0.5</td>\n",
              "      <td>150</td>\n",
              "      <td>4.9</td>\n",
              "      <td>15.7</td>\n",
              "      <td>47</td>\n",
              "      <td>6700</td>\n",
              "      <td>4.9</td>\n",
              "      <td>no</td>\n",
              "      <td>no</td>\n",
              "      <td>no</td>\n",
              "      <td>good</td>\n",
              "      <td>no</td>\n",
              "      <td>no</td>\n",
              "      <td>notckd</td>\n",
              "    </tr>\n",
              "    <tr>\n",
              "      <th>396</th>\n",
              "      <td>42</td>\n",
              "      <td>70</td>\n",
              "      <td>1.025</td>\n",
              "      <td>0</td>\n",
              "      <td>0</td>\n",
              "      <td>normal</td>\n",
              "      <td>normal</td>\n",
              "      <td>notpresent</td>\n",
              "      <td>notpresent</td>\n",
              "      <td>75</td>\n",
              "      <td>31</td>\n",
              "      <td>1.2</td>\n",
              "      <td>141</td>\n",
              "      <td>3.5</td>\n",
              "      <td>16.5</td>\n",
              "      <td>54</td>\n",
              "      <td>7800</td>\n",
              "      <td>6.2</td>\n",
              "      <td>no</td>\n",
              "      <td>no</td>\n",
              "      <td>no</td>\n",
              "      <td>good</td>\n",
              "      <td>no</td>\n",
              "      <td>no</td>\n",
              "      <td>notckd</td>\n",
              "    </tr>\n",
              "    <tr>\n",
              "      <th>397</th>\n",
              "      <td>12</td>\n",
              "      <td>80</td>\n",
              "      <td>1.020</td>\n",
              "      <td>0</td>\n",
              "      <td>0</td>\n",
              "      <td>normal</td>\n",
              "      <td>normal</td>\n",
              "      <td>notpresent</td>\n",
              "      <td>notpresent</td>\n",
              "      <td>100</td>\n",
              "      <td>26</td>\n",
              "      <td>0.6</td>\n",
              "      <td>137</td>\n",
              "      <td>4.4</td>\n",
              "      <td>15.8</td>\n",
              "      <td>49</td>\n",
              "      <td>6600</td>\n",
              "      <td>5.4</td>\n",
              "      <td>no</td>\n",
              "      <td>no</td>\n",
              "      <td>no</td>\n",
              "      <td>good</td>\n",
              "      <td>no</td>\n",
              "      <td>no</td>\n",
              "      <td>notckd</td>\n",
              "    </tr>\n",
              "    <tr>\n",
              "      <th>398</th>\n",
              "      <td>17</td>\n",
              "      <td>60</td>\n",
              "      <td>1.025</td>\n",
              "      <td>0</td>\n",
              "      <td>0</td>\n",
              "      <td>normal</td>\n",
              "      <td>normal</td>\n",
              "      <td>notpresent</td>\n",
              "      <td>notpresent</td>\n",
              "      <td>114</td>\n",
              "      <td>50</td>\n",
              "      <td>1.0</td>\n",
              "      <td>135</td>\n",
              "      <td>4.9</td>\n",
              "      <td>14.2</td>\n",
              "      <td>51</td>\n",
              "      <td>7200</td>\n",
              "      <td>5.9</td>\n",
              "      <td>no</td>\n",
              "      <td>no</td>\n",
              "      <td>no</td>\n",
              "      <td>good</td>\n",
              "      <td>no</td>\n",
              "      <td>no</td>\n",
              "      <td>notckd</td>\n",
              "    </tr>\n",
              "    <tr>\n",
              "      <th>399</th>\n",
              "      <td>58</td>\n",
              "      <td>80</td>\n",
              "      <td>1.025</td>\n",
              "      <td>0</td>\n",
              "      <td>0</td>\n",
              "      <td>normal</td>\n",
              "      <td>normal</td>\n",
              "      <td>notpresent</td>\n",
              "      <td>notpresent</td>\n",
              "      <td>131</td>\n",
              "      <td>18</td>\n",
              "      <td>1.1</td>\n",
              "      <td>141</td>\n",
              "      <td>3.5</td>\n",
              "      <td>15.8</td>\n",
              "      <td>53</td>\n",
              "      <td>6800</td>\n",
              "      <td>6.1</td>\n",
              "      <td>no</td>\n",
              "      <td>no</td>\n",
              "      <td>no</td>\n",
              "      <td>good</td>\n",
              "      <td>no</td>\n",
              "      <td>no</td>\n",
              "      <td>notckd</td>\n",
              "    </tr>\n",
              "  </tbody>\n",
              "</table>\n",
              "<p>400 rows × 25 columns</p>\n",
              "</div>"
            ],
            "text/plain": [
              "    age  bp     sg al su     rbc  ...   dm cad appet   pe  ane   class\n",
              "0    48  80  1.020  1  0       ?  ...  yes  no  good   no   no     ckd\n",
              "1     7  50  1.020  4  0       ?  ...   no  no  good   no   no     ckd\n",
              "2    62  80  1.010  2  3  normal  ...  yes  no  poor   no  yes     ckd\n",
              "3    48  70  1.005  4  0  normal  ...   no  no  poor  yes  yes     ckd\n",
              "4    51  80  1.010  2  0  normal  ...   no  no  good   no   no     ckd\n",
              "..   ..  ..    ... .. ..     ...  ...  ...  ..   ...  ...  ...     ...\n",
              "395  55  80  1.020  0  0  normal  ...   no  no  good   no   no  notckd\n",
              "396  42  70  1.025  0  0  normal  ...   no  no  good   no   no  notckd\n",
              "397  12  80  1.020  0  0  normal  ...   no  no  good   no   no  notckd\n",
              "398  17  60  1.025  0  0  normal  ...   no  no  good   no   no  notckd\n",
              "399  58  80  1.025  0  0  normal  ...   no  no  good   no   no  notckd\n",
              "\n",
              "[400 rows x 25 columns]"
            ]
          },
          "metadata": {
            "tags": []
          },
          "execution_count": 4
        }
      ]
    },
    {
      "cell_type": "code",
      "metadata": {
        "id": "TIxvjd3slu0J",
        "colab": {
          "base_uri": "https://localhost:8080/"
        },
        "outputId": "0311fb47-0ba5-45f3-8773-2162edcd21c9"
      },
      "source": [
        "# Cantidad de registros y atributos\n",
        "data.shape"
      ],
      "execution_count": null,
      "outputs": [
        {
          "output_type": "execute_result",
          "data": {
            "text/plain": [
              "(400, 25)"
            ]
          },
          "metadata": {
            "tags": []
          },
          "execution_count": 29
        }
      ]
    },
    {
      "cell_type": "code",
      "metadata": {
        "id": "chiYJvrFlwe3",
        "colab": {
          "base_uri": "https://localhost:8080/"
        },
        "outputId": "3cbf59f9-321d-4592-beeb-1ef2f4a7923d"
      },
      "source": [
        "# Tipo de los atributos\n",
        "data.dtypes"
      ],
      "execution_count": null,
      "outputs": [
        {
          "output_type": "execute_result",
          "data": {
            "text/plain": [
              "age      object\n",
              "bp       object\n",
              "sg       object\n",
              "al       object\n",
              "su       object\n",
              "rbc      object\n",
              "pc       object\n",
              "pcc      object\n",
              "ba       object\n",
              "bgr      object\n",
              "bu       object\n",
              "sc       object\n",
              "sod      object\n",
              "pot      object\n",
              "hemo     object\n",
              "pcv      object\n",
              "wbcc     object\n",
              "rbcc     object\n",
              "htn      object\n",
              "dm       object\n",
              "cad      object\n",
              "appet    object\n",
              "pe       object\n",
              "ane      object\n",
              "class    object\n",
              "dtype: object"
            ]
          },
          "metadata": {
            "tags": []
          },
          "execution_count": 30
        }
      ]
    },
    {
      "cell_type": "markdown",
      "metadata": {
        "id": "qT8dO8zv999m"
      },
      "source": [
        "### ***NOTA:***\n",
        "Como se puede observar en  ```data.dtypes```, todas las columnas tienen sus atributos de tipo string, por lo cual se creará una copia profunda (```deepcopy```) del dataframe original, **NO** se cambiará el original. Solo se creará una copia del mismo para un mejor entendimiento de los datos, ya que resulta imposible hacer diagramas de cajas con datos nulos o faltantes.\n"
      ]
    },
    {
      "cell_type": "code",
      "metadata": {
        "id": "JPKyLpxY9EXC"
      },
      "source": [
        "# Creación de una copia del dataframe para analizar los atributos numéricos\n",
        "filtered_data = deepcopy(data).replace('?', np.nan, inplace=False)\n",
        "\n",
        "for i in numeric_att:\n",
        "    filtered_data[i] = pd.to_numeric(filtered_data[i], errors='coerce')\n",
        "\n",
        "numeric_data = {}\n",
        "for i in numeric_att:\n",
        "    numeric_data[i] = filtered_data[i].dropna()"
      ],
      "execution_count": null,
      "outputs": []
    },
    {
      "cell_type": "code",
      "metadata": {
        "id": "zapJuQx-mFJH",
        "colab": {
          "base_uri": "https://localhost:8080/",
          "height": 304
        },
        "outputId": "07f42f10-fe68-46e8-c7da-9318b75b723d"
      },
      "source": [
        "# Medidas de centralidad y dispersión (atributos numéricos)\n",
        "filtered_data.describe()"
      ],
      "execution_count": null,
      "outputs": [
        {
          "output_type": "execute_result",
          "data": {
            "text/html": [
              "<div>\n",
              "<style scoped>\n",
              "    .dataframe tbody tr th:only-of-type {\n",
              "        vertical-align: middle;\n",
              "    }\n",
              "\n",
              "    .dataframe tbody tr th {\n",
              "        vertical-align: top;\n",
              "    }\n",
              "\n",
              "    .dataframe thead th {\n",
              "        text-align: right;\n",
              "    }\n",
              "</style>\n",
              "<table border=\"1\" class=\"dataframe\">\n",
              "  <thead>\n",
              "    <tr style=\"text-align: right;\">\n",
              "      <th></th>\n",
              "      <th>age</th>\n",
              "      <th>bp</th>\n",
              "      <th>sg</th>\n",
              "      <th>al</th>\n",
              "      <th>su</th>\n",
              "      <th>bgr</th>\n",
              "      <th>bu</th>\n",
              "      <th>sc</th>\n",
              "      <th>sod</th>\n",
              "      <th>pot</th>\n",
              "      <th>hemo</th>\n",
              "      <th>pcv</th>\n",
              "      <th>wbcc</th>\n",
              "      <th>rbcc</th>\n",
              "    </tr>\n",
              "  </thead>\n",
              "  <tbody>\n",
              "    <tr>\n",
              "      <th>count</th>\n",
              "      <td>391.000000</td>\n",
              "      <td>388.000000</td>\n",
              "      <td>353.000000</td>\n",
              "      <td>354.000000</td>\n",
              "      <td>351.000000</td>\n",
              "      <td>356.000000</td>\n",
              "      <td>381.000000</td>\n",
              "      <td>383.000000</td>\n",
              "      <td>313.000000</td>\n",
              "      <td>312.000000</td>\n",
              "      <td>348.000000</td>\n",
              "      <td>329.000000</td>\n",
              "      <td>294.000000</td>\n",
              "      <td>269.000000</td>\n",
              "    </tr>\n",
              "    <tr>\n",
              "      <th>mean</th>\n",
              "      <td>51.483376</td>\n",
              "      <td>76.469072</td>\n",
              "      <td>1.017408</td>\n",
              "      <td>1.016949</td>\n",
              "      <td>0.450142</td>\n",
              "      <td>148.036517</td>\n",
              "      <td>57.425722</td>\n",
              "      <td>3.072454</td>\n",
              "      <td>137.528754</td>\n",
              "      <td>4.627244</td>\n",
              "      <td>12.526437</td>\n",
              "      <td>38.884498</td>\n",
              "      <td>8406.122449</td>\n",
              "      <td>4.707435</td>\n",
              "    </tr>\n",
              "    <tr>\n",
              "      <th>std</th>\n",
              "      <td>17.169714</td>\n",
              "      <td>13.683637</td>\n",
              "      <td>0.005717</td>\n",
              "      <td>1.352679</td>\n",
              "      <td>1.099191</td>\n",
              "      <td>79.281714</td>\n",
              "      <td>50.503006</td>\n",
              "      <td>5.741126</td>\n",
              "      <td>10.408752</td>\n",
              "      <td>3.193904</td>\n",
              "      <td>2.912587</td>\n",
              "      <td>8.990105</td>\n",
              "      <td>2944.474190</td>\n",
              "      <td>1.025323</td>\n",
              "    </tr>\n",
              "    <tr>\n",
              "      <th>min</th>\n",
              "      <td>2.000000</td>\n",
              "      <td>50.000000</td>\n",
              "      <td>1.005000</td>\n",
              "      <td>0.000000</td>\n",
              "      <td>0.000000</td>\n",
              "      <td>22.000000</td>\n",
              "      <td>1.500000</td>\n",
              "      <td>0.400000</td>\n",
              "      <td>4.500000</td>\n",
              "      <td>2.500000</td>\n",
              "      <td>3.100000</td>\n",
              "      <td>9.000000</td>\n",
              "      <td>2200.000000</td>\n",
              "      <td>2.100000</td>\n",
              "    </tr>\n",
              "    <tr>\n",
              "      <th>25%</th>\n",
              "      <td>42.000000</td>\n",
              "      <td>70.000000</td>\n",
              "      <td>1.010000</td>\n",
              "      <td>0.000000</td>\n",
              "      <td>0.000000</td>\n",
              "      <td>99.000000</td>\n",
              "      <td>27.000000</td>\n",
              "      <td>0.900000</td>\n",
              "      <td>135.000000</td>\n",
              "      <td>3.800000</td>\n",
              "      <td>10.300000</td>\n",
              "      <td>32.000000</td>\n",
              "      <td>6500.000000</td>\n",
              "      <td>3.900000</td>\n",
              "    </tr>\n",
              "    <tr>\n",
              "      <th>50%</th>\n",
              "      <td>55.000000</td>\n",
              "      <td>80.000000</td>\n",
              "      <td>1.020000</td>\n",
              "      <td>0.000000</td>\n",
              "      <td>0.000000</td>\n",
              "      <td>121.000000</td>\n",
              "      <td>42.000000</td>\n",
              "      <td>1.300000</td>\n",
              "      <td>138.000000</td>\n",
              "      <td>4.400000</td>\n",
              "      <td>12.650000</td>\n",
              "      <td>40.000000</td>\n",
              "      <td>8000.000000</td>\n",
              "      <td>4.800000</td>\n",
              "    </tr>\n",
              "    <tr>\n",
              "      <th>75%</th>\n",
              "      <td>64.500000</td>\n",
              "      <td>80.000000</td>\n",
              "      <td>1.020000</td>\n",
              "      <td>2.000000</td>\n",
              "      <td>0.000000</td>\n",
              "      <td>163.000000</td>\n",
              "      <td>66.000000</td>\n",
              "      <td>2.800000</td>\n",
              "      <td>142.000000</td>\n",
              "      <td>4.900000</td>\n",
              "      <td>15.000000</td>\n",
              "      <td>45.000000</td>\n",
              "      <td>9800.000000</td>\n",
              "      <td>5.400000</td>\n",
              "    </tr>\n",
              "    <tr>\n",
              "      <th>max</th>\n",
              "      <td>90.000000</td>\n",
              "      <td>180.000000</td>\n",
              "      <td>1.025000</td>\n",
              "      <td>5.000000</td>\n",
              "      <td>5.000000</td>\n",
              "      <td>490.000000</td>\n",
              "      <td>391.000000</td>\n",
              "      <td>76.000000</td>\n",
              "      <td>163.000000</td>\n",
              "      <td>47.000000</td>\n",
              "      <td>17.800000</td>\n",
              "      <td>54.000000</td>\n",
              "      <td>26400.000000</td>\n",
              "      <td>8.000000</td>\n",
              "    </tr>\n",
              "  </tbody>\n",
              "</table>\n",
              "</div>"
            ],
            "text/plain": [
              "              age          bp          sg  ...         pcv          wbcc        rbcc\n",
              "count  391.000000  388.000000  353.000000  ...  329.000000    294.000000  269.000000\n",
              "mean    51.483376   76.469072    1.017408  ...   38.884498   8406.122449    4.707435\n",
              "std     17.169714   13.683637    0.005717  ...    8.990105   2944.474190    1.025323\n",
              "min      2.000000   50.000000    1.005000  ...    9.000000   2200.000000    2.100000\n",
              "25%     42.000000   70.000000    1.010000  ...   32.000000   6500.000000    3.900000\n",
              "50%     55.000000   80.000000    1.020000  ...   40.000000   8000.000000    4.800000\n",
              "75%     64.500000   80.000000    1.020000  ...   45.000000   9800.000000    5.400000\n",
              "max     90.000000  180.000000    1.025000  ...   54.000000  26400.000000    8.000000\n",
              "\n",
              "[8 rows x 14 columns]"
            ]
          },
          "metadata": {
            "tags": []
          },
          "execution_count": 32
        }
      ]
    },
    {
      "cell_type": "code",
      "metadata": {
        "id": "S2WebOFkmFEN",
        "colab": {
          "base_uri": "https://localhost:8080/",
          "height": 318
        },
        "outputId": "ec5cf9a9-c566-4530-dd54-0262e129bd90"
      },
      "source": [
        "# Diagrama de cajas y bigotes (atributos númericos)\n",
        "plt.boxplot((numeric_data['age'], numeric_data['bp'], numeric_data['sg'], numeric_data['al'],numeric_data['su'], \n",
        "             numeric_data['bgr'], numeric_data['bu'], numeric_data['sc'], numeric_data['sod'], numeric_data['pot'], \n",
        "             numeric_data['hemo'], numeric_data['pcv'], numeric_data['wbcc'], numeric_data['rbcc']))\n",
        "plt.show()"
      ],
      "execution_count": null,
      "outputs": [
        {
          "output_type": "stream",
          "text": [
            "/usr/local/lib/python3.7/dist-packages/numpy/core/_asarray.py:83: VisibleDeprecationWarning: Creating an ndarray from ragged nested sequences (which is a list-or-tuple of lists-or-tuples-or ndarrays with different lengths or shapes) is deprecated. If you meant to do this, you must specify 'dtype=object' when creating the ndarray\n",
            "  return array(a, dtype, copy=False, order=order)\n"
          ],
          "name": "stderr"
        },
        {
          "output_type": "display_data",
          "data": {
            "image/png": "[encoded data removed]",
            "text/plain": [
              "<Figure size 432x288 with 1 Axes>"
            ]
          },
          "metadata": {
            "tags": [],
            "needs_background": "light"
          }
        }
      ]
    },
    {
      "cell_type": "code",
      "metadata": {
        "id": "0NolFI_PnXhk",
        "colab": {
          "base_uri": "https://localhost:8080/",
          "height": 1000
        },
        "outputId": "001e6ae3-43b2-46a4-a78a-94cdc5832184"
      },
      "source": [
        "# Distribución de los datos (atributos categóricos)\n",
        "for i in categorical_att:\n",
        "    plt.title(i)\n",
        "    plt.hist(data[i])\n",
        "    plt.show()"
      ],
      "execution_count": null,
      "outputs": [
        {
          "output_type": "display_data",
          "data": {
            "image/png": "[encoded data removed]",
            "text/plain": [
              "<Figure size 432x288 with 1 Axes>"
            ]
          },
          "metadata": {
            "tags": [],
            "needs_background": "light"
          }
        },
        {
          "output_type": "display_data",
          "data": {
            "image/png": "[encoded data removed]",
            "text/plain": [
              "<Figure size 432x288 with 1 Axes>"
            ]
          },
          "metadata": {
            "tags": [],
            "needs_background": "light"
          }
        },
        {
          "output_type": "display_data",
          "data": {
            "image/png": "[encoded data removed]",
            "text/plain": [
              "<Figure size 432x288 with 1 Axes>"
            ]
          },
          "metadata": {
            "tags": [],
            "needs_background": "light"
          }
        },
        {
          "output_type": "display_data",
          "data": {
            "image/png": "[encoded data removed]",
            "text/plain": [
              "<Figure size 432x288 with 1 Axes>"
            ]
          },
          "metadata": {
            "tags": [],
            "needs_background": "light"
          }
        },
        {
          "output_type": "display_data",
          "data": {
            "image/png": "[encoded data removed]",
            "text/plain": [
              "<Figure size 432x288 with 1 Axes>"
            ]
          },
          "metadata": {
            "tags": [],
            "needs_background": "light"
          }
        },
        {
          "output_type": "stream",
          "text": [
            "/usr/local/lib/python3.7/dist-packages/matplotlib/backends/backend_agg.py:214: RuntimeWarning: Glyph 9 missing from current font.\n",
            "  font.set_text(s, 0.0, flags=flags)\n",
            "/usr/local/lib/python3.7/dist-packages/matplotlib/backends/backend_agg.py:183: RuntimeWarning: Glyph 9 missing from current font.\n",
            "  font.set_text(s, 0, flags=flags)\n"
          ],
          "name": "stderr"
        },
        {
          "output_type": "display_data",
          "data": {
            "image/png": "[encoded data removed]",
            "text/plain": [
              "<Figure size 432x288 with 1 Axes>"
            ]
          },
          "metadata": {
            "tags": [],
            "needs_background": "light"
          }
        },
        {
          "output_type": "display_data",
          "data": {
            "image/png": "[encoded data removed]",
            "text/plain": [
              "<Figure size 432x288 with 1 Axes>"
            ]
          },
          "metadata": {
            "tags": [],
            "needs_background": "light"
          }
        },
        {
          "output_type": "display_data",
          "data": {
            "image/png": "[encoded data removed]",
            "text/plain": [
              "<Figure size 432x288 with 1 Axes>"
            ]
          },
          "metadata": {
            "tags": [],
            "needs_background": "light"
          }
        },
        {
          "output_type": "display_data",
          "data": {
            "image/png": "[encoded data removed]",
            "text/plain": [
              "<Figure size 432x288 with 1 Axes>"
            ]
          },
          "metadata": {
            "tags": [],
            "needs_background": "light"
          }
        },
        {
          "output_type": "display_data",
          "data": {
            "image/png": "[encoded data removed]",
            "text/plain": [
              "<Figure size 432x288 with 1 Axes>"
            ]
          },
          "metadata": {
            "tags": [],
            "needs_background": "light"
          }
        },
        {
          "output_type": "display_data",
          "data": {
            "image/png": "[encoded data removed]",
            "text/plain": [
              "<Figure size 432x288 with 1 Axes>"
            ]
          },
          "metadata": {
            "tags": [],
            "needs_background": "light"
          }
        }
      ]
    },
    {
      "cell_type": "code",
      "metadata": {
        "id": "l6mHbhuunSOk",
        "colab": {
          "base_uri": "https://localhost:8080/",
          "height": 97
        },
        "outputId": "9d2f71eb-c14a-4b4c-bb87-ade040bd84dd"
      },
      "source": [
        "# Medidas de centralidad (atributos categóricos)\n",
        "data.mode()"
      ],
      "execution_count": null,
      "outputs": [
        {
          "output_type": "execute_result",
          "data": {
            "text/html": [
              "<div>\n",
              "<style scoped>\n",
              "    .dataframe tbody tr th:only-of-type {\n",
              "        vertical-align: middle;\n",
              "    }\n",
              "\n",
              "    .dataframe tbody tr th {\n",
              "        vertical-align: top;\n",
              "    }\n",
              "\n",
              "    .dataframe thead th {\n",
              "        text-align: right;\n",
              "    }\n",
              "</style>\n",
              "<table border=\"1\" class=\"dataframe\">\n",
              "  <thead>\n",
              "    <tr style=\"text-align: right;\">\n",
              "      <th></th>\n",
              "      <th>age</th>\n",
              "      <th>bp</th>\n",
              "      <th>sg</th>\n",
              "      <th>al</th>\n",
              "      <th>su</th>\n",
              "      <th>rbc</th>\n",
              "      <th>pc</th>\n",
              "      <th>pcc</th>\n",
              "      <th>ba</th>\n",
              "      <th>bgr</th>\n",
              "      <th>bu</th>\n",
              "      <th>sc</th>\n",
              "      <th>sod</th>\n",
              "      <th>pot</th>\n",
              "      <th>hemo</th>\n",
              "      <th>pcv</th>\n",
              "      <th>wbcc</th>\n",
              "      <th>rbcc</th>\n",
              "      <th>htn</th>\n",
              "      <th>dm</th>\n",
              "      <th>cad</th>\n",
              "      <th>appet</th>\n",
              "      <th>pe</th>\n",
              "      <th>ane</th>\n",
              "      <th>class</th>\n",
              "    </tr>\n",
              "  </thead>\n",
              "  <tbody>\n",
              "    <tr>\n",
              "      <th>0</th>\n",
              "      <td>60</td>\n",
              "      <td>80</td>\n",
              "      <td>1.020</td>\n",
              "      <td>0</td>\n",
              "      <td>0</td>\n",
              "      <td>normal</td>\n",
              "      <td>normal</td>\n",
              "      <td>notpresent</td>\n",
              "      <td>notpresent</td>\n",
              "      <td>?</td>\n",
              "      <td>?</td>\n",
              "      <td>1.2</td>\n",
              "      <td>?</td>\n",
              "      <td>?</td>\n",
              "      <td>?</td>\n",
              "      <td>?</td>\n",
              "      <td>?</td>\n",
              "      <td>?</td>\n",
              "      <td>no</td>\n",
              "      <td>no</td>\n",
              "      <td>no</td>\n",
              "      <td>good</td>\n",
              "      <td>no</td>\n",
              "      <td>no</td>\n",
              "      <td>ckd</td>\n",
              "    </tr>\n",
              "  </tbody>\n",
              "</table>\n",
              "</div>"
            ],
            "text/plain": [
              "  age  bp     sg al su     rbc      pc  ... htn  dm cad appet  pe ane class\n",
              "0  60  80  1.020  0  0  normal  normal  ...  no  no  no  good  no  no   ckd\n",
              "\n",
              "[1 rows x 25 columns]"
            ]
          },
          "metadata": {
            "tags": []
          },
          "execution_count": 35
        }
      ]
    },
    {
      "cell_type": "code",
      "metadata": {
        "id": "EvCMAyR9nqQi",
        "colab": {
          "base_uri": "https://localhost:8080/"
        },
        "outputId": "aea74dac-8543-45fb-d234-8eff375e0ab0"
      },
      "source": [
        "# Cantidad de duplicados por clase\n",
        "levels = data.groupby(['class'])\n",
        "for name, group in levels:\n",
        "    print(name, group[group.duplicated()].count()[0])"
      ],
      "execution_count": null,
      "outputs": [
        {
          "output_type": "stream",
          "text": [
            "ckd 0\n",
            "ckd\t 0\n",
            "notckd 0\n"
          ],
          "name": "stdout"
        }
      ]
    },
    {
      "cell_type": "code",
      "metadata": {
        "id": "iv2BjBFSnYBw",
        "colab": {
          "base_uri": "https://localhost:8080/",
          "height": 482
        },
        "outputId": "e0b4bd51-186e-479d-ba70-ed801a25113c"
      },
      "source": [
        "# Correlación (tabla)\n",
        "filtered_data.corr()"
      ],
      "execution_count": null,
      "outputs": [
        {
          "output_type": "execute_result",
          "data": {
            "text/html": [
              "<div>\n",
              "<style scoped>\n",
              "    .dataframe tbody tr th:only-of-type {\n",
              "        vertical-align: middle;\n",
              "    }\n",
              "\n",
              "    .dataframe tbody tr th {\n",
              "        vertical-align: top;\n",
              "    }\n",
              "\n",
              "    .dataframe thead th {\n",
              "        text-align: right;\n",
              "    }\n",
              "</style>\n",
              "<table border=\"1\" class=\"dataframe\">\n",
              "  <thead>\n",
              "    <tr style=\"text-align: right;\">\n",
              "      <th></th>\n",
              "      <th>age</th>\n",
              "      <th>bp</th>\n",
              "      <th>sg</th>\n",
              "      <th>al</th>\n",
              "      <th>su</th>\n",
              "      <th>bgr</th>\n",
              "      <th>bu</th>\n",
              "      <th>sc</th>\n",
              "      <th>sod</th>\n",
              "      <th>pot</th>\n",
              "      <th>hemo</th>\n",
              "      <th>pcv</th>\n",
              "      <th>wbcc</th>\n",
              "      <th>rbcc</th>\n",
              "    </tr>\n",
              "  </thead>\n",
              "  <tbody>\n",
              "    <tr>\n",
              "      <th>age</th>\n",
              "      <td>1.000000</td>\n",
              "      <td>0.159480</td>\n",
              "      <td>-0.191096</td>\n",
              "      <td>0.122091</td>\n",
              "      <td>0.220866</td>\n",
              "      <td>0.244992</td>\n",
              "      <td>0.196985</td>\n",
              "      <td>0.132531</td>\n",
              "      <td>-0.100046</td>\n",
              "      <td>0.058377</td>\n",
              "      <td>-0.192928</td>\n",
              "      <td>-0.242119</td>\n",
              "      <td>0.118339</td>\n",
              "      <td>-0.268896</td>\n",
              "    </tr>\n",
              "    <tr>\n",
              "      <th>bp</th>\n",
              "      <td>0.159480</td>\n",
              "      <td>1.000000</td>\n",
              "      <td>-0.218836</td>\n",
              "      <td>0.160689</td>\n",
              "      <td>0.222576</td>\n",
              "      <td>0.160193</td>\n",
              "      <td>0.188517</td>\n",
              "      <td>0.146222</td>\n",
              "      <td>-0.116422</td>\n",
              "      <td>0.075151</td>\n",
              "      <td>-0.306540</td>\n",
              "      <td>-0.326319</td>\n",
              "      <td>0.029753</td>\n",
              "      <td>-0.261936</td>\n",
              "    </tr>\n",
              "    <tr>\n",
              "      <th>sg</th>\n",
              "      <td>-0.191096</td>\n",
              "      <td>-0.218836</td>\n",
              "      <td>1.000000</td>\n",
              "      <td>-0.469760</td>\n",
              "      <td>-0.296234</td>\n",
              "      <td>-0.374710</td>\n",
              "      <td>-0.314295</td>\n",
              "      <td>-0.361473</td>\n",
              "      <td>0.412190</td>\n",
              "      <td>-0.072787</td>\n",
              "      <td>0.602582</td>\n",
              "      <td>0.603560</td>\n",
              "      <td>-0.236215</td>\n",
              "      <td>0.579476</td>\n",
              "    </tr>\n",
              "    <tr>\n",
              "      <th>al</th>\n",
              "      <td>0.122091</td>\n",
              "      <td>0.160689</td>\n",
              "      <td>-0.469760</td>\n",
              "      <td>1.000000</td>\n",
              "      <td>0.269305</td>\n",
              "      <td>0.379464</td>\n",
              "      <td>0.453528</td>\n",
              "      <td>0.399198</td>\n",
              "      <td>-0.459896</td>\n",
              "      <td>0.129038</td>\n",
              "      <td>-0.634632</td>\n",
              "      <td>-0.611891</td>\n",
              "      <td>0.231989</td>\n",
              "      <td>-0.566437</td>\n",
              "    </tr>\n",
              "    <tr>\n",
              "      <th>su</th>\n",
              "      <td>0.220866</td>\n",
              "      <td>0.222576</td>\n",
              "      <td>-0.296234</td>\n",
              "      <td>0.269305</td>\n",
              "      <td>1.000000</td>\n",
              "      <td>0.717827</td>\n",
              "      <td>0.168583</td>\n",
              "      <td>0.223244</td>\n",
              "      <td>-0.131776</td>\n",
              "      <td>0.219450</td>\n",
              "      <td>-0.224775</td>\n",
              "      <td>-0.239189</td>\n",
              "      <td>0.184893</td>\n",
              "      <td>-0.237448</td>\n",
              "    </tr>\n",
              "    <tr>\n",
              "      <th>bgr</th>\n",
              "      <td>0.244992</td>\n",
              "      <td>0.160193</td>\n",
              "      <td>-0.374710</td>\n",
              "      <td>0.379464</td>\n",
              "      <td>0.717827</td>\n",
              "      <td>1.000000</td>\n",
              "      <td>0.143322</td>\n",
              "      <td>0.114875</td>\n",
              "      <td>-0.267848</td>\n",
              "      <td>0.066966</td>\n",
              "      <td>-0.306189</td>\n",
              "      <td>-0.301385</td>\n",
              "      <td>0.150015</td>\n",
              "      <td>-0.281541</td>\n",
              "    </tr>\n",
              "    <tr>\n",
              "      <th>bu</th>\n",
              "      <td>0.196985</td>\n",
              "      <td>0.188517</td>\n",
              "      <td>-0.314295</td>\n",
              "      <td>0.453528</td>\n",
              "      <td>0.168583</td>\n",
              "      <td>0.143322</td>\n",
              "      <td>1.000000</td>\n",
              "      <td>0.586368</td>\n",
              "      <td>-0.323054</td>\n",
              "      <td>0.357049</td>\n",
              "      <td>-0.610360</td>\n",
              "      <td>-0.607621</td>\n",
              "      <td>0.050462</td>\n",
              "      <td>-0.579087</td>\n",
              "    </tr>\n",
              "    <tr>\n",
              "      <th>sc</th>\n",
              "      <td>0.132531</td>\n",
              "      <td>0.146222</td>\n",
              "      <td>-0.361473</td>\n",
              "      <td>0.399198</td>\n",
              "      <td>0.223244</td>\n",
              "      <td>0.114875</td>\n",
              "      <td>0.586368</td>\n",
              "      <td>1.000000</td>\n",
              "      <td>-0.690158</td>\n",
              "      <td>0.326107</td>\n",
              "      <td>-0.401670</td>\n",
              "      <td>-0.404193</td>\n",
              "      <td>-0.006390</td>\n",
              "      <td>-0.400852</td>\n",
              "    </tr>\n",
              "    <tr>\n",
              "      <th>sod</th>\n",
              "      <td>-0.100046</td>\n",
              "      <td>-0.116422</td>\n",
              "      <td>0.412190</td>\n",
              "      <td>-0.459896</td>\n",
              "      <td>-0.131776</td>\n",
              "      <td>-0.267848</td>\n",
              "      <td>-0.323054</td>\n",
              "      <td>-0.690158</td>\n",
              "      <td>1.000000</td>\n",
              "      <td>0.097887</td>\n",
              "      <td>0.365183</td>\n",
              "      <td>0.376914</td>\n",
              "      <td>0.007277</td>\n",
              "      <td>0.344873</td>\n",
              "    </tr>\n",
              "    <tr>\n",
              "      <th>pot</th>\n",
              "      <td>0.058377</td>\n",
              "      <td>0.075151</td>\n",
              "      <td>-0.072787</td>\n",
              "      <td>0.129038</td>\n",
              "      <td>0.219450</td>\n",
              "      <td>0.066966</td>\n",
              "      <td>0.357049</td>\n",
              "      <td>0.326107</td>\n",
              "      <td>0.097887</td>\n",
              "      <td>1.000000</td>\n",
              "      <td>-0.133746</td>\n",
              "      <td>-0.163182</td>\n",
              "      <td>-0.105576</td>\n",
              "      <td>-0.158309</td>\n",
              "    </tr>\n",
              "    <tr>\n",
              "      <th>hemo</th>\n",
              "      <td>-0.192928</td>\n",
              "      <td>-0.306540</td>\n",
              "      <td>0.602582</td>\n",
              "      <td>-0.634632</td>\n",
              "      <td>-0.224775</td>\n",
              "      <td>-0.306189</td>\n",
              "      <td>-0.610360</td>\n",
              "      <td>-0.401670</td>\n",
              "      <td>0.365183</td>\n",
              "      <td>-0.133746</td>\n",
              "      <td>1.000000</td>\n",
              "      <td>0.895382</td>\n",
              "      <td>-0.169413</td>\n",
              "      <td>0.798880</td>\n",
              "    </tr>\n",
              "    <tr>\n",
              "      <th>pcv</th>\n",
              "      <td>-0.242119</td>\n",
              "      <td>-0.326319</td>\n",
              "      <td>0.603560</td>\n",
              "      <td>-0.611891</td>\n",
              "      <td>-0.239189</td>\n",
              "      <td>-0.301385</td>\n",
              "      <td>-0.607621</td>\n",
              "      <td>-0.404193</td>\n",
              "      <td>0.376914</td>\n",
              "      <td>-0.163182</td>\n",
              "      <td>0.895382</td>\n",
              "      <td>1.000000</td>\n",
              "      <td>-0.197022</td>\n",
              "      <td>0.791625</td>\n",
              "    </tr>\n",
              "    <tr>\n",
              "      <th>wbcc</th>\n",
              "      <td>0.118339</td>\n",
              "      <td>0.029753</td>\n",
              "      <td>-0.236215</td>\n",
              "      <td>0.231989</td>\n",
              "      <td>0.184893</td>\n",
              "      <td>0.150015</td>\n",
              "      <td>0.050462</td>\n",
              "      <td>-0.006390</td>\n",
              "      <td>0.007277</td>\n",
              "      <td>-0.105576</td>\n",
              "      <td>-0.169413</td>\n",
              "      <td>-0.197022</td>\n",
              "      <td>1.000000</td>\n",
              "      <td>-0.158163</td>\n",
              "    </tr>\n",
              "    <tr>\n",
              "      <th>rbcc</th>\n",
              "      <td>-0.268896</td>\n",
              "      <td>-0.261936</td>\n",
              "      <td>0.579476</td>\n",
              "      <td>-0.566437</td>\n",
              "      <td>-0.237448</td>\n",
              "      <td>-0.281541</td>\n",
              "      <td>-0.579087</td>\n",
              "      <td>-0.400852</td>\n",
              "      <td>0.344873</td>\n",
              "      <td>-0.158309</td>\n",
              "      <td>0.798880</td>\n",
              "      <td>0.791625</td>\n",
              "      <td>-0.158163</td>\n",
              "      <td>1.000000</td>\n",
              "    </tr>\n",
              "  </tbody>\n",
              "</table>\n",
              "</div>"
            ],
            "text/plain": [
              "           age        bp        sg  ...       pcv      wbcc      rbcc\n",
              "age   1.000000  0.159480 -0.191096  ... -0.242119  0.118339 -0.268896\n",
              "bp    0.159480  1.000000 -0.218836  ... -0.326319  0.029753 -0.261936\n",
              "sg   -0.191096 -0.218836  1.000000  ...  0.603560 -0.236215  0.579476\n",
              "al    0.122091  0.160689 -0.469760  ... -0.611891  0.231989 -0.566437\n",
              "su    0.220866  0.222576 -0.296234  ... -0.239189  0.184893 -0.237448\n",
              "bgr   0.244992  0.160193 -0.374710  ... -0.301385  0.150015 -0.281541\n",
              "bu    0.196985  0.188517 -0.314295  ... -0.607621  0.050462 -0.579087\n",
              "sc    0.132531  0.146222 -0.361473  ... -0.404193 -0.006390 -0.400852\n",
              "sod  -0.100046 -0.116422  0.412190  ...  0.376914  0.007277  0.344873\n",
              "pot   0.058377  0.075151 -0.072787  ... -0.163182 -0.105576 -0.158309\n",
              "hemo -0.192928 -0.306540  0.602582  ...  0.895382 -0.169413  0.798880\n",
              "pcv  -0.242119 -0.326319  0.603560  ...  1.000000 -0.197022  0.791625\n",
              "wbcc  0.118339  0.029753 -0.236215  ... -0.197022  1.000000 -0.158163\n",
              "rbcc -0.268896 -0.261936  0.579476  ...  0.791625 -0.158163  1.000000\n",
              "\n",
              "[14 rows x 14 columns]"
            ]
          },
          "metadata": {
            "tags": []
          },
          "execution_count": 37
        }
      ]
    },
    {
      "cell_type": "code",
      "metadata": {
        "id": "j2ZdBLKcnZw3",
        "colab": {
          "base_uri": "https://localhost:8080/",
          "height": 598
        },
        "outputId": "941da453-7acb-4753-e988-21962b7a4566"
      },
      "source": [
        "# Correlación (gráfica)\n",
        "plt.subplots(figsize=(20,15))\n",
        "heatmap(filtered_data.corr(), square=True, annot=True)"
      ],
      "execution_count": null,
      "outputs": [
        {
          "output_type": "execute_result",
          "data": {
            "text/plain": [
              "<matplotlib.axes._subplots.AxesSubplot at 0x7f56a4102b90>"
            ]
          },
          "metadata": {
            "tags": []
          },
          "execution_count": 38
        },
        {
          "output_type": "display_data",
          "data": {
            "image/png": "[encoded data removed]",
            "text/plain": [
              "<Figure size 1440x1080 with 2 Axes>"
            ]
          },
          "metadata": {
            "tags": [],
            "needs_background": "light"
          }
        }
      ]
    },
    {
      "cell_type": "code",
      "metadata": {
        "id": "8OFtN5hqndsE",
        "colab": {
          "base_uri": "https://localhost:8080/",
          "height": 1000
        },
        "outputId": "fcac4ee3-3ad7-4aec-ded5-e2d3166d122e"
      },
      "source": [
        "# Datos atípicos de cada atributo\n",
        "for i in numeric_att:\n",
        "    plt.title(i)\n",
        "    plt.boxplot(numeric_data[i])\n",
        "    plt.show()"
      ],
      "execution_count": null,
      "outputs": [
        {
          "output_type": "display_data",
          "data": {
            "image/png": "[encoded data removed]",
            "text/plain": [
              "<Figure size 432x288 with 1 Axes>"
            ]
          },
          "metadata": {
            "tags": [],
            "needs_background": "light"
          }
        },
        {
          "output_type": "display_data",
          "data": {
            "image/png": "[encoded data removed]",
            "text/plain": [
              "<Figure size 432x288 with 1 Axes>"
            ]
          },
          "metadata": {
            "tags": [],
            "needs_background": "light"
          }
        },
        {
          "output_type": "display_data",
          "data": {
            "image/png": "[encoded data removed]",
            "text/plain": [
              "<Figure size 432x288 with 1 Axes>"
            ]
          },
          "metadata": {
            "tags": [],
            "needs_background": "light"
          }
        },
        {
          "output_type": "display_data",
          "data": {
            "image/png": "[encoded data removed]",
            "text/plain": [
              "<Figure size 432x288 with 1 Axes>"
            ]
          },
          "metadata": {
            "tags": [],
            "needs_background": "light"
          }
        },
        {
          "output_type": "display_data",
          "data": {
            "image/png": "[encoded data removed]",
            "text/plain": [
              "<Figure size 432x288 with 1 Axes>"
            ]
          },
          "metadata": {
            "tags": [],
            "needs_background": "light"
          }
        },
        {
          "output_type": "display_data",
          "data": {
            "image/png": "[encoded data removed]",
            "text/plain": [
              "<Figure size 432x288 with 1 Axes>"
            ]
          },
          "metadata": {
            "tags": [],
            "needs_background": "light"
          }
        },
        {
          "output_type": "display_data",
          "data": {
            "image/png": "[encoded data removed]",
            "text/plain": [
              "<Figure size 432x288 with 1 Axes>"
            ]
          },
          "metadata": {
            "tags": [],
            "needs_background": "light"
          }
        },
        {
          "output_type": "display_data",
          "data": {
            "image/png": "[encoded data removed]",
            "text/plain": [
              "<Figure size 432x288 with 1 Axes>"
            ]
          },
          "metadata": {
            "tags": [],
            "needs_background": "light"
          }
        },
        {
          "output_type": "display_data",
          "data": {
            "image/png": "[encoded data removed]",
            "text/plain": [
              "<Figure size 432x288 with 1 Axes>"
            ]
          },
          "metadata": {
            "tags": [],
            "needs_background": "light"
          }
        },
        {
          "output_type": "display_data",
          "data": {
            "image/png": "[encoded data removed]",
            "text/plain": [
              "<Figure size 432x288 with 1 Axes>"
            ]
          },
          "metadata": {
            "tags": [],
            "needs_background": "light"
          }
        },
        {
          "output_type": "display_data",
          "data": {
            "image/png": "[encoded data removed]",
            "text/plain": [
              "<Figure size 432x288 with 1 Axes>"
            ]
          },
          "metadata": {
            "tags": [],
            "needs_background": "light"
          }
        },
        {
          "output_type": "display_data",
          "data": {
            "image/png": "[encoded data removed]",
            "text/plain": [
              "<Figure size 432x288 with 1 Axes>"
            ]
          },
          "metadata": {
            "tags": [],
            "needs_background": "light"
          }
        },
        {
          "output_type": "display_data",
          "data": {
            "image/png": "[encoded data removed]",
            "text/plain": [
              "<Figure size 432x288 with 1 Axes>"
            ]
          },
          "metadata": {
            "tags": [],
            "needs_background": "light"
          }
        },
        {
          "output_type": "display_data",
          "data": {
            "image/png": "[encoded data removed]",
            "text/plain": [
              "<Figure size 432x288 with 1 Axes>"
            ]
          },
          "metadata": {
            "tags": [],
            "needs_background": "light"
          }
        }
      ]
    },
    {
      "cell_type": "code",
      "metadata": {
        "id": "nwhLvV0fnuGi",
        "colab": {
          "base_uri": "https://localhost:8080/"
        },
        "outputId": "52e171d8-f78b-4f42-8f5b-e633683fbc73"
      },
      "source": [
        "# Cantidad de registros sin valores atípicos\n",
        "temp = filtered_data[numeric_att]\n",
        "temp[(np.abs(stats.zscore(temp)) < 3).all(axis=1)].count()[0]"
      ],
      "execution_count": null,
      "outputs": [
        {
          "output_type": "execute_result",
          "data": {
            "text/plain": [
              "0"
            ]
          },
          "metadata": {
            "tags": []
          },
          "execution_count": 40
        }
      ]
    },
    {
      "cell_type": "code",
      "metadata": {
        "id": "8SKEAj2mnbYx",
        "colab": {
          "base_uri": "https://localhost:8080/"
        },
        "outputId": "03a20b6d-6e65-45ea-c936-a25b0f4b410f"
      },
      "source": [
        "# Datos faltantes por cada atributo\n",
        "filtered_data.isnull().sum()"
      ],
      "execution_count": null,
      "outputs": [
        {
          "output_type": "execute_result",
          "data": {
            "text/plain": [
              "age        9\n",
              "bp        12\n",
              "sg        47\n",
              "al        46\n",
              "su        49\n",
              "rbc      152\n",
              "pc        65\n",
              "pcc        4\n",
              "ba         4\n",
              "bgr       44\n",
              "bu        19\n",
              "sc        17\n",
              "sod       87\n",
              "pot       88\n",
              "hemo      52\n",
              "pcv       71\n",
              "wbcc     106\n",
              "rbcc     131\n",
              "htn        2\n",
              "dm         2\n",
              "cad        2\n",
              "appet      1\n",
              "pe         1\n",
              "ane        1\n",
              "class      0\n",
              "dtype: int64"
            ]
          },
          "metadata": {
            "tags": []
          },
          "execution_count": 41
        }
      ]
    },
    {
      "cell_type": "code",
      "metadata": {
        "id": "epAo8TNzUhid",
        "colab": {
          "base_uri": "https://localhost:8080/"
        },
        "outputId": "b2f21e35-5dd9-4c76-931f-03b319a576f3"
      },
      "source": [
        "# Datos faltantes por clase\n",
        "g = filtered_data.groupby(['class'])\n",
        "for name, group in g:\n",
        "    print(name, group.isnull().sum().sum())"
      ],
      "execution_count": null,
      "outputs": [
        {
          "output_type": "stream",
          "text": [
            "ckd 900\n",
            "ckd\t 8\n",
            "notckd 104\n"
          ],
          "name": "stdout"
        }
      ]
    },
    {
      "cell_type": "code",
      "metadata": {
        "id": "TIIVULn_bBk-",
        "colab": {
          "base_uri": "https://localhost:8080/"
        },
        "outputId": "6da2ad0e-a28f-4b47-e385-9c1e94a0d911"
      },
      "source": [
        "# Datos faltantes por clase y por atributo\n",
        "g = filtered_data.groupby(['class'])\n",
        "for name, group in g:\n",
        "    print(\"\\n{}\".format(name))\n",
        "    print(group.isnull().sum(), \"\\n\")"
      ],
      "execution_count": null,
      "outputs": [
        {
          "output_type": "stream",
          "text": [
            "\n",
            "ckd\n",
            "age        8\n",
            "bp        10\n",
            "sg        41\n",
            "al        40\n",
            "su        43\n",
            "rbc      142\n",
            "pc        55\n",
            "pcc        0\n",
            "ba         0\n",
            "bgr       38\n",
            "bu        13\n",
            "sc        12\n",
            "sod       82\n",
            "pot       83\n",
            "hemo      45\n",
            "pcv       66\n",
            "wbcc      99\n",
            "rbcc     123\n",
            "htn        0\n",
            "dm         0\n",
            "cad        0\n",
            "appet      0\n",
            "pe         0\n",
            "ane        0\n",
            "class      0\n",
            "dtype: int64 \n",
            "\n",
            "\n",
            "ckd\t\n",
            "age      0\n",
            "bp       0\n",
            "sg       1\n",
            "al       1\n",
            "su       1\n",
            "rbc      1\n",
            "pc       1\n",
            "pcc      0\n",
            "ba       0\n",
            "bgr      0\n",
            "bu       0\n",
            "sc       0\n",
            "sod      0\n",
            "pot      0\n",
            "hemo     1\n",
            "pcv      1\n",
            "wbcc     0\n",
            "rbcc     1\n",
            "htn      0\n",
            "dm       0\n",
            "cad      0\n",
            "appet    0\n",
            "pe       0\n",
            "ane      0\n",
            "class    0\n",
            "dtype: int64 \n",
            "\n",
            "\n",
            "notckd\n",
            "age      1\n",
            "bp       2\n",
            "sg       5\n",
            "al       5\n",
            "su       5\n",
            "rbc      9\n",
            "pc       9\n",
            "pcc      4\n",
            "ba       4\n",
            "bgr      6\n",
            "bu       6\n",
            "sc       5\n",
            "sod      5\n",
            "pot      5\n",
            "hemo     6\n",
            "pcv      4\n",
            "wbcc     7\n",
            "rbcc     7\n",
            "htn      2\n",
            "dm       2\n",
            "cad      2\n",
            "appet    1\n",
            "pe       1\n",
            "ane      1\n",
            "class    0\n",
            "dtype: int64 \n",
            "\n"
          ],
          "name": "stdout"
        }
      ]
    },
    {
      "cell_type": "code",
      "metadata": {
        "id": "6-Va8NDBngay",
        "colab": {
          "base_uri": "https://localhost:8080/"
        },
        "outputId": "88fb54d8-134b-4ee5-f350-0b1aed99b299"
      },
      "source": [
        "# Cantidad de registros por clase\n",
        "data['class'].value_counts()"
      ],
      "execution_count": null,
      "outputs": [
        {
          "output_type": "execute_result",
          "data": {
            "text/plain": [
              "ckd       248\n",
              "notckd    150\n",
              "ckd\\t       2\n",
              "Name: class, dtype: int64"
            ]
          },
          "metadata": {
            "tags": []
          },
          "execution_count": 44
        }
      ]
    },
    {
      "cell_type": "code",
      "metadata": {
        "id": "71LX_POUnnc-",
        "colab": {
          "base_uri": "https://localhost:8080/",
          "height": 376
        },
        "outputId": "94a2941b-fe35-4f1f-b47a-a63b206c9c6d"
      },
      "source": [
        "# Gráfica de la cantidad de registros por clase\n",
        "data['class'].value_counts().plot(kind='bar')"
      ],
      "execution_count": null,
      "outputs": [
        {
          "output_type": "execute_result",
          "data": {
            "text/plain": [
              "<matplotlib.axes._subplots.AxesSubplot at 0x7f56adf38f10>"
            ]
          },
          "metadata": {
            "tags": []
          },
          "execution_count": 45
        },
        {
          "output_type": "stream",
          "text": [
            "/usr/local/lib/python3.7/dist-packages/matplotlib/backends/backend_agg.py:214: RuntimeWarning: Glyph 9 missing from current font.\n",
            "  font.set_text(s, 0.0, flags=flags)\n",
            "/usr/local/lib/python3.7/dist-packages/matplotlib/backends/backend_agg.py:183: RuntimeWarning: Glyph 9 missing from current font.\n",
            "  font.set_text(s, 0, flags=flags)\n"
          ],
          "name": "stderr"
        },
        {
          "output_type": "display_data",
          "data": {
            "image/png": "[encoded data removed]",
            "text/plain": [
              "<Figure size 432x288 with 1 Axes>"
            ]
          },
          "metadata": {
            "tags": [],
            "needs_background": "light"
          }
        }
      ]
    },
    {
      "cell_type": "markdown",
      "metadata": {
        "id": "-V0LirgYUvEz"
      },
      "source": [
        "#### **Conclusiones sobre el entendimiento de los datos**\n",
        "\n",
        "- No hay registros duplicados.\n",
        "- Los atributos \"pcv\" y \"hemo\" son altamente correlacionados (0.9), por lo que se eliminará uno de ellos.\n",
        "- Hay bastantes atributos con valores atípicos en ambas clases, pero consideramos que son importantes para la construcción del modelo, por lo que no se van a eliminar.\n",
        "- Hay 242 registros con al menos un dato faltante.\n",
        "- Un 62.5% de los registros hacen parte de la clase mayoritaria, por lo que no está completamente balanceado.\n",
        "- La principal dificultad con el dataset es que hay bastantes datos faltantes.\n",
        "- No es necesario discretizar algún atributo.\n",
        "- Es necesario normalizar la mayoría de los atributos.\n",
        "- Es necesario pasar los atributos categóricos a numéricos.\n",
        "- Algunos atributos categóricos tienen errores en la transcripción, por ejemplo en las clases en vez de \"ckd\" en algunos registros está escrito \"ckd\\t\". Este error sucede también en otros atributos.\n",
        "- Otro problema fue que los atributos numéricos tenían el tipo de dato \"string\", esto debido a que para los datos faltantes en vez de estar vacío se encontraba el caracter \"?\", que imposibilitaba el análisis de estos atributos.\n",
        "\n",
        "#### **Plan de ajuste de datos**\n",
        "\n",
        "1. Eliminar los registros con 5 o más datos faltantes.\n",
        "2. Resolver algunos problemas de escritura de los datos.\n",
        "3. Reemplazar los datos faltantes por la media o la moda según el tipo del atributo.\n",
        "4. Eliminar el atributo \"pcv\" para eliminar la correlación con \"hemo\".\n",
        "5. Normalizar el atributo \"wbcc\".\n",
        "6. Pasar los atributos categóricos a numéricos."
      ]
    },
    {
      "cell_type": "code",
      "metadata": {
        "id": "iAlxn4ACaG8L"
      },
      "source": [
        "# Paso 1: Eliminar los registros con 5 o más datos faltantes\n",
        "data = data.replace('?', np.nan, inplace=False).dropna(thresh=20, inplace=False)"
      ],
      "execution_count": null,
      "outputs": []
    },
    {
      "cell_type": "code",
      "metadata": {
        "id": "D3Zs9w3SC2CV"
      },
      "source": [
        "# Paso 2: Resuelve algunos problemas de escritura de los datos\n",
        "mapping = {\"\\tyes\": \"yes\", \"\\tno\": \"no\", \" yes\": \"yes\", \" no\": \"no\"}\n",
        "boolean = ['htn', 'dm', 'cad', 'pe', 'ane']\n",
        "for i in boolean: data[i] = data[i].replace(mapping)\n",
        "\n",
        "data['class'] = data['class'].replace({\"ckd\\t\": \"ckd\"})\n",
        "\n",
        "for i in numeric_att: data[i] = pd.to_numeric(data[i], errors='coerce')"
      ],
      "execution_count": null,
      "outputs": []
    },
    {
      "cell_type": "code",
      "metadata": {
        "id": "tGGJNSnGB8CE"
      },
      "source": [
        "# Paso 3: Reemplazar los datos faltantes por la media o la moda\n",
        "for i in numeric_att:\n",
        "    data[i].fillna(data[i].mean(), inplace=True)\n",
        "\n",
        "for i in categorical_att:\n",
        "    data[i].fillna(data[i].mode()[0], inplace=True)"
      ],
      "execution_count": null,
      "outputs": []
    },
    {
      "cell_type": "code",
      "metadata": {
        "id": "NXVodLti82wZ"
      },
      "source": [
        "# Correlación (gráfica)\n",
        "plt.subplots(figsize=(20,15))\n",
        "heatmap(data.corr(), square=True, annot=True)"
      ],
      "execution_count": null,
      "outputs": []
    },
    {
      "cell_type": "code",
      "metadata": {
        "id": "zBcNCFwN-lOg"
      },
      "source": [
        "# Paso 4: Eliminar el atributo \"pcv\"\n",
        "data = data.drop(\"pcv\", axis=1)"
      ],
      "execution_count": null,
      "outputs": []
    },
    {
      "cell_type": "code",
      "metadata": {
        "id": "TvcNoxSJzNxi"
      },
      "source": [
        "# Paso 5: Normalizar el atributo \"wbcc\"\n",
        "data['wbcc'] = scale(data['wbcc'])"
      ],
      "execution_count": null,
      "outputs": []
    },
    {
      "cell_type": "code",
      "metadata": {
        "id": "S8a71VC12ycC"
      },
      "source": [
        "# Paso 6: Pasar los atributos categóricos a numéricos\n",
        "categorize = data.apply(LabelEncoder().fit_transform)\n",
        "for i in categorical_att:\n",
        "    data[i] = categorize[i]"
      ],
      "execution_count": null,
      "outputs": []
    },
    {
      "cell_type": "markdown",
      "metadata": {
        "id": "dD-WeGefPVOc"
      },
      "source": [
        "### Entrenamiento de los modelos"
      ]
    },
    {
      "cell_type": "code",
      "metadata": {
        "id": "ZqcJpOmE5Ika"
      },
      "source": [
        "# Separación de los datos\n",
        "X, y = data.drop('class', axis=1), data['class']\n",
        "f1s = [0 for _ in range(4)]\n",
        "\n",
        "# Se fijan los datos de entrenamiento y validación para poder comparar los modelos\n",
        "train_test = {}\n",
        "for i in range(10):\n",
        "    X_train, X_test, y_train, y_test = train_test_split(X, y, test_size=0.3)\n",
        "    train_test[i] = (X_train, X_test, y_train, y_test)\n",
        "\n",
        "# Imprime las métricas de un modelo\n",
        "def print_metrics(metrics):\n",
        "\n",
        "    print(\"Métrica\\t\\t  Prom\\t  Desv\\t  Min\\t  Max\")\n",
        "    nombres = [\"Precision\", \"Recall\", \"F1-score\", \"Accuracy\"]\n",
        "\n",
        "    print()\n",
        "    for i in range(4):\n",
        "        mean = np.mean(metrics[i])\n",
        "        std = np.std(metrics[i])\n",
        "        min_ = np.min(metrics[i])\n",
        "        max_ = np.max(metrics[i])\n",
        "        if (i != 1):\n",
        "            print(\"{}\\t{:.5f}\\t{:.5f}\\t{:.5f}\\t{:.5f}\".format(nombres[i], mean, std, min_, max_))\n",
        "        else:\n",
        "            print(\"{}\\t\\t{:.5f}\\t{:.5f}\\t{:.5f}\\t{:.5f}\".format(nombres[i], mean, std, min_, max_))"
      ],
      "execution_count": null,
      "outputs": []
    },
    {
      "cell_type": "code",
      "metadata": {
        "colab": {
          "base_uri": "https://localhost:8080/"
        },
        "id": "febE9m0AQHP8",
        "outputId": "a5f776bf-066e-4500-e53b-dd52682c3df1"
      },
      "source": [
        "# Perceptrón Multicapa\n",
        "\n",
        "parameter_space = [{'hidden_layer_sizes': [(10,10,10,10), (50,50,50,50), (100,100,100)], \n",
        "                        'activation': ['logistic', 'tanh', 'relu'], 'max_iter': [700, 1000],\n",
        "                        }]\n",
        "\n",
        "metrics = [[] for i in range(4)]\n",
        "\n",
        "for i in range(10):\n",
        "\n",
        "    # X_train, X_test, y_train, y_test = train_test_split(X, y, test_size=0.3)\n",
        "    X_train, X_test, y_train, y_test = train_test[i][0], train_test[i][1], train_test[i][2], train_test[i][3]\n",
        "    MLP = MLPClassifier()\n",
        "\n",
        "    MLP = GridSearchCV(MLP, parameter_space, n_jobs=-1, cv=7, refit=True)\n",
        "    MLP.fit(X_train, y_train)\n",
        "\n",
        "    # print(\"Mejores parametros:\")\n",
        "    # print(MLP.best_params_)\n",
        "        \n",
        "    prediction = MLP.predict(X_test)\n",
        "\n",
        "    metrics[0].append(precision_score(y_test, prediction))\n",
        "    metrics[1].append(recall_score(y_test, prediction))\n",
        "    metrics[2].append(f1_score(y_test, prediction))\n",
        "    metrics[3].append(accuracy_score(y_test, prediction))\n",
        "\n",
        "f1s[0] = np.mean(metrics[2])\n",
        "print_metrics(metrics)"
      ],
      "execution_count": null,
      "outputs": [
        {
          "output_type": "stream",
          "text": [
            "Métrica\t\t  Prom\t  Desv\t  Min\t  Max\n",
            "\n",
            "Precision\t0.91039\t0.09263\t0.72000\t1.00000\n",
            "Recall\t\t0.95939\t0.03527\t0.89796\t1.00000\n",
            "F1-score\t0.93125\t0.05357\t0.80899\t0.98824\n",
            "Accuracy\t0.94020\t0.04566\t0.83333\t0.99020\n"
          ],
          "name": "stdout"
        }
      ]
    },
    {
      "cell_type": "code",
      "metadata": {
        "colab": {
          "base_uri": "https://localhost:8080/"
        },
        "id": "sLS6U-lq42uM",
        "outputId": "82696412-a8f8-499d-9a63-614e877e936a"
      },
      "source": [
        "# Máquinas de Vectores de Soporte\n",
        "\n",
        "parameter_space = [{'C': [1.5, 2, 2.5, 3], 'kernel': ['linear','rbf'], \n",
        "                    'gamma': ['scale', 'auto']}]\n",
        "\n",
        "metrics = [[] for i in range(4)]\n",
        "\n",
        "for i in range(10):\n",
        "\n",
        "    # X_train, X_test, y_train, y_test = train_test_split(X, y, test_size=0.3)\n",
        "    X_train, X_test, y_train, y_test = train_test[i][0], train_test[i][1], train_test[i][2], train_test[i][3]\n",
        "    SVM = SVC()\n",
        "\n",
        "    SVM = GridSearchCV(SVM, parameter_space, n_jobs=-1, cv=5, refit=True)\n",
        "    SVM.fit(X_train, y_train)\n",
        "\n",
        "    # print(\"Mejores parametros:\")\n",
        "    # print(SVM.best_params_)\n",
        "        \n",
        "    prediction = SVM.predict(X_test)\n",
        "\n",
        "    metrics[0].append(precision_score(y_test, prediction))\n",
        "    metrics[1].append(recall_score(y_test, prediction))\n",
        "    metrics[2].append(f1_score(y_test, prediction))\n",
        "    metrics[3].append(accuracy_score(y_test, prediction))\n",
        "\n",
        "f1s[1] = np.mean(metrics[2])\n",
        "print_metrics(metrics)"
      ],
      "execution_count": null,
      "outputs": [
        {
          "output_type": "stream",
          "text": [
            "Métrica\t\t  Prom\t  Desv\t  Min\t  Max\n",
            "\n",
            "Precision\t0.94726\t0.03790\t0.84783\t0.97917\n",
            "Recall\t\t0.96934\t0.03596\t0.90698\t1.00000\n",
            "F1-score\t0.95713\t0.02092\t0.91765\t0.98630\n",
            "Accuracy\t0.96275\t0.01797\t0.93137\t0.99020\n"
          ],
          "name": "stdout"
        }
      ]
    },
    {
      "cell_type": "code",
      "metadata": {
        "id": "4S5oVF7h4yRs",
        "colab": {
          "base_uri": "https://localhost:8080/"
        },
        "outputId": "0311601c-118e-4c42-fe63-5f193a5fd930"
      },
      "source": [
        "# Regresión Logística\n",
        "\n",
        "parameter_space_RL = [{'solver': ['newton-cg', 'lbfgs','liblinear','sag','saga'], \n",
        "                    'max_iter': [2000,3000,4000,5000],\n",
        "                    'tol': [1e-4],\n",
        "                    }]\n",
        "\n",
        "def regresion(parameter_space_RL, train_test):\n",
        "    metrics = [[] for i in range(4)]\n",
        "\n",
        "    for i in range(10):\n",
        "        \n",
        "        # X_train, X_test, y_train, y_test = train_test_split(X, y, test_size=0.3)\n",
        "        X_train, X_test, y_train, y_test = train_test[i][0], train_test[i][1], train_test[i][2], train_test[i][3]\n",
        "        clf = LogisticRegression()\n",
        "\n",
        "        clf = GridSearchCV(clf, parameter_space_RL, n_jobs=-1, cv=3, refit=True)\n",
        "        clf.fit(X_train,y_train)\n",
        "\n",
        "        # print(\"Mejores parametros:\")\n",
        "        # print(clf.best_params_)\n",
        "        \n",
        "        prediction = clf.predict(X_test)\n",
        "\n",
        "        metrics[0].append(precision_score(y_test, prediction))\n",
        "        metrics[1].append(recall_score(y_test, prediction))\n",
        "        metrics[2].append(f1_score(y_test, prediction))\n",
        "        metrics[3].append(accuracy_score(y_test, prediction))\n",
        "\n",
        "        print(\"F1-score = {:.5f}\\nAccuracy = {:.5f}\\n\".format(metrics[2][-1], metrics[3][-1]))\n",
        "\n",
        "    f1s[2] = np.mean(metrics[2])\n",
        "    print_metrics(metrics)\n",
        "\n",
        "    return np.mean(metrics[2])\n",
        "\n",
        "f1_1 = regresion(parameter_space_RL, train_test)"
      ],
      "execution_count": null,
      "outputs": [
        {
          "output_type": "stream",
          "text": [
            "F1-score = 0.97959\n",
            "Accuracy = 0.98039\n",
            "\n",
            "F1-score = 0.97619\n",
            "Accuracy = 0.98039\n",
            "\n",
            "F1-score = 0.97297\n",
            "Accuracy = 0.98039\n",
            "\n",
            "F1-score = 0.93750\n",
            "Accuracy = 0.94118\n",
            "\n",
            "F1-score = 0.97674\n",
            "Accuracy = 0.98039\n",
            "\n",
            "F1-score = 0.96774\n",
            "Accuracy = 0.97059\n",
            "\n",
            "F1-score = 0.96907\n",
            "Accuracy = 0.97059\n",
            "\n",
            "F1-score = 0.98824\n",
            "Accuracy = 0.99020\n",
            "\n",
            "F1-score = 0.92857\n",
            "Accuracy = 0.94118\n",
            "\n",
            "F1-score = 0.93827\n",
            "Accuracy = 0.95098\n",
            "\n",
            "Métrica\t\t  Prom\t  Desv\t  Min\t  Max\n",
            "\n",
            "Precision\t0.95531\t0.03036\t0.90000\t1.00000\n",
            "Recall\t\t0.97268\t0.02520\t0.90698\t1.00000\n",
            "F1-score\t0.96349\t0.01969\t0.92857\t0.98824\n",
            "Accuracy\t0.96863\t0.01687\t0.94118\t0.99020\n"
          ],
          "name": "stdout"
        }
      ]
    },
    {
      "cell_type": "code",
      "metadata": {
        "colab": {
          "base_uri": "https://localhost:8080/"
        },
        "id": "xBuT6vrS40xu",
        "outputId": "2b00793c-549d-49b4-d376-31ab6e392c5f"
      },
      "source": [
        "# Análisis Discriminante Lineal\n",
        "\n",
        "parameter_space = [{'solver': ['svd', 'lsqr', 'eigen']}]\n",
        "\n",
        "metrics = [[] for i in range(4)]\n",
        "\n",
        "for i in range(10):\n",
        "\n",
        "    # X_train, X_test, y_train, y_test = train_test_split(X, y, test_size=0.3)\n",
        "    X_train, X_test, y_train, y_test = train_test[i][0], train_test[i][1], train_test[i][2], train_test[i][3]\n",
        "    LDA = LinearDiscriminantAnalysis()\n",
        "\n",
        "    LDA = GridSearchCV(LDA, parameter_space, n_jobs=-1, cv=3, refit=True)\n",
        "    LDA.fit(X_train,y_train)\n",
        "\n",
        "    # print(\"Mejores parametros:\")\n",
        "    # print(LDA.best_params_)\n",
        "        \n",
        "    prediction = LDA.predict(X_test)\n",
        "\n",
        "    metrics[0].append(precision_score(y_test, prediction))\n",
        "    metrics[1].append(recall_score(y_test, prediction))\n",
        "    metrics[2].append(f1_score(y_test, prediction))\n",
        "    metrics[3].append(accuracy_score(y_test, prediction))\n",
        "\n",
        "f1s[3] = np.mean(metrics[2])\n",
        "print_metrics(metrics)"
      ],
      "execution_count": null,
      "outputs": [
        {
          "output_type": "stream",
          "text": [
            "Métrica\t\t  Prom\t  Desv\t  Min\t  Max\n",
            "\n",
            "Precision\t0.88715\t0.05622\t0.76471\t0.96078\n",
            "Recall\t\t1.00000\t0.00000\t1.00000\t1.00000\n",
            "F1-score\t0.93924\t0.03244\t0.86667\t0.98000\n",
            "Accuracy\t0.94510\t0.02980\t0.88235\t0.98039\n"
          ],
          "name": "stdout"
        }
      ]
    },
    {
      "cell_type": "markdown",
      "metadata": {
        "id": "COiQ7eN7QTCS"
      },
      "source": [
        "### Análisis de los resultados\n",
        "\n",
        "Como se puede observar en la siguiente gráfica, el método que tuvo el mejor desempeño fue Regresión Logística. Por tanto, es el que se va a usar para las siguientes iteraciones."
      ]
    },
    {
      "cell_type": "code",
      "metadata": {
        "colab": {
          "base_uri": "https://localhost:8080/",
          "height": 348
        },
        "id": "TH1hDNDGQegf",
        "outputId": "8d81b0a7-8dca-422d-f80b-feb0edafd1c4"
      },
      "source": [
        "techniques = ['Perceptrón', 'SVM', 'Regresión Logística', 'Análisis Discriminante Lineal']\n",
        "pd.DataFrame({'F1-score': f1s}, index=techniques).plot(kind='barh', title=\"Promedios de F1-score\")\n",
        "for i in range(4): print(\"{}: {:.5f}\".format(techniques[i], f1s[i]))"
      ],
      "execution_count": null,
      "outputs": [
        {
          "output_type": "stream",
          "text": [
            "Perceptrón: 0.93125\n",
            "SVM: 0.95713\n",
            "Regresión Logística: 0.96349\n",
            "Análisis Discriminante Lineal: 0.93924\n"
          ],
          "name": "stdout"
        },
        {
          "output_type": "display_data",
          "data": {
            "image/png": "[encoded data removed]",
            "text/plain": [
              "<Figure size 432x288 with 1 Axes>"
            ]
          },
          "metadata": {
            "tags": [],
            "needs_background": "light"
          }
        }
      ]
    },
    {
      "cell_type": "markdown",
      "metadata": {
        "id": "Vq9ahmrPaJ9s"
      },
      "source": [
        "## **Segunda iteración**\n",
        "\n",
        "Para la segunda iteración se decidió balancear las clases, de la siguiente manera: se haría un over-sampling de la clase minoritaria, de manera que esta igualara en tamaño a la clase mayoritaria. Esto se hizo con el uso de la técnica SMOTE (Synthetic Minority Oversampling Technique). Un texto de cómo hacer esto Python puede ser consultado [aquí](https://machinelearningmastery.com/smote-oversampling-for-imbalanced-classification/) y la demostración de su funcionamiento se puede encontrar [aquí](https://arxiv.org/pdf/1106.1813.pdf).\n",
        "\n",
        "> **Aclaraciones**: Se escogió hacer *over-sampling* de la clase minoritaria (`\n",
        "notCKD`, o personas que no tengan enfermedad crónica renal) debido a que consideramos que reducir el número de registros de la clase mayoritaria al número de registros de la clase minoritaria era perder información que podía resultar crucial para decidir si un paciente tiene o no enfermedad crónica renal.\n",
        "\n",
        "Además de hacer el *over-sampling* de la clase minoritaria se miraron otras posibilidades que creíamos iban a mejorar el desempeño de los modelos de la primera a la segunda iteración. Estos cambios que se consideraron fueron:\n",
        "- **Cambio 1:** Eliminar el atributo **rbcc** (conteo de células rojas en la sangre) ya que, al igual que pcv (eliminado en la primera iteración), presentaba una alta correlación, aunque no tan alta para eliminarlo en la primera iteración.\n",
        "- **Cambio 2:** Normalizar el atributo **bgr**, ya que presentaba valores mucho más grandes que los que tenía la mayoría de los demás atributos.\n",
        "- **Cambio 3:** Normalizar el atributo **bu**, por la misma razón del punto anterior.\n",
        "- **Cambio 4:** Normalizar ambos atributos, tanto **bu** como **bgr**, ya que queríamos saber si normlizar ambos, al tiempo, mejoraría el desempeño en la tercera iteración.\n",
        "- **Cambio 5:** Eliminar datos atípicos. Al principio pensábamos que eliminar datos atípicos sería mala idea, ya que un indicador de enfermedad renal crónica pueden ser los niveles elevados de hemoglobina, por lo que estos valores atípicos de ciertos atributos podrían ser cruciales para detectar la enfermedad. Sin embargo, en la primera iteración nos ocurrió algo particular y es que cometíamos errores a la hora de escribir algunos nombres o valores en los parámetros de búsqueda del SearchGridCV y pensamos que un error lo puede cometer cualquiera, nadie es perfecto, ¿por qué una enfermera no podría equivocarse al momento de pasar los datos del examen de un paciente al *data-set* y haber colocado un dígito de más?\n",
        "\n",
        "> **Nota importante:** Los cambios mencionados anteriormente no se hicieron uno después de otro. Lo que se hizo fue: a partir de la primera iteración separar el conjunto de datos en 5 copias exactamente iguales, a cada una de ellas se les hizo su cambio (de los mencionados en la lista anterior) y se les hizo el *over-sampling*. Esto con la finalidad de ver qué cambio se comportaba mejor que los otros.\n",
        ">\n",
        "> En un principio pensamos en hacer todas las posibles combinaciones. Sin embargo, al proponer varios posibles cambios, hacer el cálculo computacional de todas las posibilidades resultaba algo engorroso y costoso, tanto computacionalmente como en términos de tiempo.\n"
      ]
    },
    {
      "cell_type": "code",
      "metadata": {
        "id": "0QLTBI_X4N1k"
      },
      "source": [
        "# Nueva separación de los datos\n",
        "\n",
        "def separar(dataframe):\n",
        "    \n",
        "    X_2, y_2 = dataframe.drop('class', axis=1), dataframe['class']\n",
        "\n",
        "    # Over-sampling minority class\n",
        "    oversample = SMOTE()\n",
        "    X_2, y_2 = oversample.fit_resample(X_2, y_2)\n",
        "\n",
        "    train_test_2 = {}\n",
        "    for i in range(10):\n",
        "        X_train, X_test, y_train, y_test = train_test_split(X_2, y_2, test_size=0.3)\n",
        "        train_test_2[i] = (X_train, X_test, y_train, y_test)\n",
        "    \n",
        "    return train_test_2"
      ],
      "execution_count": null,
      "outputs": []
    },
    {
      "cell_type": "code",
      "metadata": {
        "colab": {
          "base_uri": "https://localhost:8080/"
        },
        "id": "qINQqE4k_sPv",
        "outputId": "b08756ed-4d21-4256-c224-9d297c8c6cad"
      },
      "source": [
        "# Posibles cambios, además de balancear las clases (over-sampling minority class con SMOTE)\n",
        "\n",
        "def cambios():\n",
        "\n",
        "    # Cambio 5: Borrar datos atípicos\n",
        "    print(\"Borrar datos atípicos\")\n",
        "    numeric = data[numeric_att] if not (\"pcv\" in numeric_att) else data[numeric_att.remove(\"pcv\")]\n",
        "    sin_atipicos = numeric[(np.abs(stats.zscore(numeric)) < 3).all(axis=1)].index\n",
        "    data_c5 = separar(data.loc[sin_atipicos,])\n",
        "    f1_c5 = regresion(parameter_space_RL, data_c5)\n",
        "    print()\n",
        "\n",
        "    # Cambio 1: Eliminar rbcc\n",
        "    print(\"Eliminar rbcc\")\n",
        "    data_c1 = separar(data.drop(\"rbcc\", axis=1, inplace=False))\n",
        "    f1_c1 = regresion(parameter_space_RL, data_c1)\n",
        "    print()\n",
        "\n",
        "    # Cambio 2: Normalizar el atributo \"bgr\"\n",
        "    print(\"Normalizar el atributo bgr\")\n",
        "    data_c2 = deepcopy(data)\n",
        "    data_c2['bgr'] = scale(data_c2['bgr'])\n",
        "    data_c2 = separar(data_c2)\n",
        "    f1_c2 = regresion(parameter_space_RL, data_c2)\n",
        "    print()\n",
        "    \n",
        "    # Cambio 3: Normalizar el atributo \"bu\"\n",
        "    print(\"Normalizar el atributo bu\")\n",
        "    data_c3 = deepcopy(data)\n",
        "    data_c3['bu'] = scale(data_c3['bu'])\n",
        "    data_c3 = separar(data_c3)\n",
        "    f1_c3 = regresion(parameter_space_RL, data_c3)\n",
        "    print()\n",
        "    \n",
        "    # Cambio 4: Normalizar los atributos \"bgr\" y \"bu\"\n",
        "    print(\"Normalizar los atributos bgr y bu\")\n",
        "    data_c4 = deepcopy(data)\n",
        "    data_c4['bgr'] = scale(data_c4['bgr'])\n",
        "    data_c4['bu'] = scale(data_c4['bu'])\n",
        "    data_c4 = separar(data_c4)\n",
        "    f1_c4 = regresion(parameter_space_RL, data_c4)\n",
        "    print()\n",
        "    \n",
        "    return [f1_c1, f1_c2, f1_c3, f1_c4, f1_c5], [data_c1, data_c2, data_c3, data_c4, data_c5]\n",
        "\n",
        "mejor = cambios()"
      ],
      "execution_count": null,
      "outputs": [
        {
          "output_type": "stream",
          "text": [
            "Borrar datos atípicos\n"
          ],
          "name": "stdout"
        },
        {
          "output_type": "stream",
          "text": [
            "/usr/local/lib/python3.7/dist-packages/sklearn/utils/deprecation.py:87: FutureWarning: Function safe_indexing is deprecated; safe_indexing is deprecated in version 0.22 and will be removed in version 0.24.\n",
            "  warnings.warn(msg, category=FutureWarning)\n"
          ],
          "name": "stderr"
        },
        {
          "output_type": "stream",
          "text": [
            "F1-score = 0.98876\n",
            "Accuracy = 0.98889\n",
            "\n"
          ],
          "name": "stdout"
        },
        {
          "output_type": "stream",
          "text": [
            "/usr/local/lib/python3.7/dist-packages/sklearn/linear_model/_sag.py:330: ConvergenceWarning: The max_iter was reached which means the coef_ did not converge\n",
            "  \"the coef_ did not converge\", ConvergenceWarning)\n"
          ],
          "name": "stderr"
        },
        {
          "output_type": "stream",
          "text": [
            "F1-score = 0.96774\n",
            "Accuracy = 0.96667\n",
            "\n",
            "F1-score = 0.98734\n",
            "Accuracy = 0.98889\n",
            "\n",
            "F1-score = 1.00000\n",
            "Accuracy = 1.00000\n",
            "\n",
            "F1-score = 1.00000\n",
            "Accuracy = 1.00000\n",
            "\n",
            "F1-score = 0.97030\n",
            "Accuracy = 0.96667\n",
            "\n",
            "F1-score = 0.96386\n",
            "Accuracy = 0.96667\n",
            "\n",
            "F1-score = 0.91139\n",
            "Accuracy = 0.92222\n",
            "\n",
            "F1-score = 0.96386\n",
            "Accuracy = 0.96667\n",
            "\n",
            "F1-score = 0.95349\n",
            "Accuracy = 0.95556\n",
            "\n",
            "Métrica\t\t  Prom\t  Desv\t  Min\t  Max\n",
            "\n",
            "Precision\t0.95682\t0.03682\t0.87805\t1.00000\n",
            "Recall\t\t0.98554\t0.01985\t0.94737\t1.00000\n",
            "F1-score\t0.97067\t0.02497\t0.91139\t1.00000\n",
            "Accuracy\t0.97222\t0.02236\t0.92222\t1.00000\n",
            "\n",
            "Eliminar rbcc\n"
          ],
          "name": "stdout"
        },
        {
          "output_type": "stream",
          "text": [
            "/usr/local/lib/python3.7/dist-packages/sklearn/utils/deprecation.py:87: FutureWarning: Function safe_indexing is deprecated; safe_indexing is deprecated in version 0.22 and will be removed in version 0.24.\n",
            "  warnings.warn(msg, category=FutureWarning)\n"
          ],
          "name": "stderr"
        },
        {
          "output_type": "stream",
          "text": [
            "F1-score = 0.97196\n",
            "Accuracy = 0.97368\n",
            "\n",
            "F1-score = 0.96364\n",
            "Accuracy = 0.96491\n",
            "\n",
            "F1-score = 0.98276\n",
            "Accuracy = 0.98246\n",
            "\n",
            "F1-score = 1.00000\n",
            "Accuracy = 1.00000\n",
            "\n",
            "F1-score = 0.97436\n",
            "Accuracy = 0.97368\n",
            "\n",
            "F1-score = 0.99010\n",
            "Accuracy = 0.99123\n",
            "\n",
            "F1-score = 0.99187\n",
            "Accuracy = 0.99123\n",
            "\n",
            "F1-score = 1.00000\n",
            "Accuracy = 1.00000\n",
            "\n",
            "F1-score = 0.97248\n",
            "Accuracy = 0.97368\n",
            "\n",
            "F1-score = 0.96923\n",
            "Accuracy = 0.96491\n",
            "\n",
            "Métrica\t\t  Prom\t  Desv\t  Min\t  Max\n",
            "\n",
            "Precision\t0.98063\t0.01871\t0.94643\t1.00000\n",
            "Recall\t\t0.98284\t0.01185\t0.95455\t1.00000\n",
            "F1-score\t0.98164\t0.01249\t0.96364\t1.00000\n",
            "Accuracy\t0.98158\t0.01268\t0.96491\t1.00000\n",
            "\n",
            "Normalizar el atributo bgr\n"
          ],
          "name": "stdout"
        },
        {
          "output_type": "stream",
          "text": [
            "/usr/local/lib/python3.7/dist-packages/sklearn/utils/deprecation.py:87: FutureWarning: Function safe_indexing is deprecated; safe_indexing is deprecated in version 0.22 and will be removed in version 0.24.\n",
            "  warnings.warn(msg, category=FutureWarning)\n"
          ],
          "name": "stderr"
        },
        {
          "output_type": "stream",
          "text": [
            "F1-score = 0.95935\n",
            "Accuracy = 0.95614\n",
            "\n",
            "F1-score = 0.94737\n",
            "Accuracy = 0.94737\n",
            "\n",
            "F1-score = 0.99065\n",
            "Accuracy = 0.99123\n",
            "\n",
            "F1-score = 0.94340\n",
            "Accuracy = 0.94737\n",
            "\n",
            "F1-score = 0.95161\n",
            "Accuracy = 0.94737\n",
            "\n",
            "F1-score = 0.97810\n",
            "Accuracy = 0.97368\n",
            "\n",
            "F1-score = 0.94737\n",
            "Accuracy = 0.93860\n",
            "\n",
            "F1-score = 0.97436\n",
            "Accuracy = 0.97368\n",
            "\n",
            "F1-score = 0.98182\n",
            "Accuracy = 0.98246\n",
            "\n",
            "F1-score = 0.99115\n",
            "Accuracy = 0.99123\n",
            "\n",
            "Métrica\t\t  Prom\t  Desv\t  Min\t  Max\n",
            "\n",
            "Precision\t0.95215\t0.02661\t0.91304\t0.98529\n",
            "Recall\t\t0.98176\t0.01727\t0.95161\t1.00000\n",
            "F1-score\t0.96652\t0.01778\t0.94340\t0.99115\n",
            "Accuracy\t0.96491\t0.01881\t0.93860\t0.99123\n",
            "\n",
            "Normalizar el atributo bu\n"
          ],
          "name": "stdout"
        },
        {
          "output_type": "stream",
          "text": [
            "/usr/local/lib/python3.7/dist-packages/sklearn/utils/deprecation.py:87: FutureWarning: Function safe_indexing is deprecated; safe_indexing is deprecated in version 0.22 and will be removed in version 0.24.\n",
            "  warnings.warn(msg, category=FutureWarning)\n"
          ],
          "name": "stderr"
        },
        {
          "output_type": "stream",
          "text": [
            "F1-score = 0.98246\n",
            "Accuracy = 0.98246\n",
            "\n",
            "F1-score = 0.95413\n",
            "Accuracy = 0.95614\n",
            "\n",
            "F1-score = 0.99099\n",
            "Accuracy = 0.99123\n",
            "\n",
            "F1-score = 0.96491\n",
            "Accuracy = 0.96491\n",
            "\n",
            "F1-score = 0.98333\n",
            "Accuracy = 0.98246\n",
            "\n"
          ],
          "name": "stdout"
        },
        {
          "output_type": "stream",
          "text": [
            "/usr/local/lib/python3.7/dist-packages/sklearn/linear_model/_sag.py:330: ConvergenceWarning: The max_iter was reached which means the coef_ did not converge\n",
            "  \"the coef_ did not converge\", ConvergenceWarning)\n"
          ],
          "name": "stderr"
        },
        {
          "output_type": "stream",
          "text": [
            "F1-score = 0.97391\n",
            "Accuracy = 0.97368\n",
            "\n",
            "F1-score = 0.97297\n",
            "Accuracy = 0.97368\n",
            "\n",
            "F1-score = 0.97638\n",
            "Accuracy = 0.97368\n",
            "\n",
            "F1-score = 0.98077\n",
            "Accuracy = 0.98246\n",
            "\n",
            "F1-score = 0.97087\n",
            "Accuracy = 0.97368\n",
            "\n",
            "Métrica\t\t  Prom\t  Desv\t  Min\t  Max\n",
            "\n",
            "Precision\t0.96682\t0.01921\t0.93220\t1.00000\n",
            "Recall\t\t0.98402\t0.01857\t0.94545\t1.00000\n",
            "F1-score\t0.97507\t0.00988\t0.95413\t0.99099\n",
            "Accuracy\t0.97544\t0.00945\t0.95614\t0.99123\n",
            "\n",
            "Normalizar los atributos bgr y bu\n"
          ],
          "name": "stdout"
        },
        {
          "output_type": "stream",
          "text": [
            "/usr/local/lib/python3.7/dist-packages/sklearn/utils/deprecation.py:87: FutureWarning: Function safe_indexing is deprecated; safe_indexing is deprecated in version 0.22 and will be removed in version 0.24.\n",
            "  warnings.warn(msg, category=FutureWarning)\n"
          ],
          "name": "stderr"
        },
        {
          "output_type": "stream",
          "text": [
            "F1-score = 0.97479\n",
            "Accuracy = 0.97368\n",
            "\n",
            "F1-score = 0.95146\n",
            "Accuracy = 0.95614\n",
            "\n",
            "F1-score = 0.96226\n",
            "Accuracy = 0.96491\n",
            "\n",
            "F1-score = 0.96825\n",
            "Accuracy = 0.96491\n",
            "\n",
            "F1-score = 0.95146\n",
            "Accuracy = 0.95614\n",
            "\n",
            "F1-score = 0.98387\n",
            "Accuracy = 0.98246\n",
            "\n",
            "F1-score = 0.97196\n",
            "Accuracy = 0.97368\n",
            "\n",
            "F1-score = 0.97744\n",
            "Accuracy = 0.97368\n",
            "\n",
            "F1-score = 0.96183\n",
            "Accuracy = 0.95614\n",
            "\n",
            "F1-score = 0.95652\n",
            "Accuracy = 0.95614\n",
            "\n",
            "Métrica\t\t  Prom\t  Desv\t  Min\t  Max\n",
            "\n",
            "Precision\t0.95607\t0.02153\t0.91667\t0.98387\n",
            "Recall\t\t0.97668\t0.01719\t0.94231\t1.00000\n",
            "F1-score\t0.96599\t0.01055\t0.95146\t0.98387\n",
            "Accuracy\t0.96579\t0.00916\t0.95614\t0.98246\n",
            "\n"
          ],
          "name": "stdout"
        }
      ]
    },
    {
      "cell_type": "markdown",
      "metadata": {
        "id": "ssHZnuromL6Q"
      },
      "source": [
        "#### **Resultados de desempeño**\n",
        "En todos los cambios realizados se logró aumentar el F1-score, siendo el cambio 1 el que obtuvo mejor resultado. Sin embargo, decidimos que es mejor probar la siguiente iteración con cada uno de los datos que sufrieron estos cambios, para así analizar la mejora obtenida por cada camino.\n",
        "\n",
        "En la gráfica que se presenta a continuación se pueden apreciar las mejoras que se obtuvieron al realizar un cambio en específico."
      ]
    },
    {
      "cell_type": "code",
      "metadata": {
        "colab": {
          "base_uri": "https://localhost:8080/",
          "height": 631
        },
        "id": "Ir06NuJCk1QV",
        "outputId": "77d61eff-1bbb-4481-8e39-90c2ebbef85e"
      },
      "source": [
        "iter_names = [1, 2]\n",
        "\n",
        "[f1_c1, f1_c2, f1_c3, f1_c4, f1_c5] = mejor[0]\n",
        "\n",
        "iter_values = [[f1_1, f1_c1],\n",
        "               [f1_1, f1_c2],\n",
        "               [f1_1, f1_c3],\n",
        "               [f1_1, f1_c4],\n",
        "               [f1_1, f1_c5]]\n",
        "\n",
        "iter_cambios = [\"Eliminar rbcc\", \"Normalizar bgr\", \"Normalizar el atributo bu\", \"Normalizar ambos\", \"Eliminar datos atípicos\"]\n",
        "\n",
        "plt.plot(iter_names, iter_values[0], color=\"blue\", marker=\"o\", label=\"Cambio 1\")\n",
        "plt.plot(iter_names, iter_values[1], color=\"red\", marker = \"o\", label=\"Cambio 2\")\n",
        "plt.plot(iter_names, iter_values[2], color=\"purple\", marker = \"o\", label=\"Cambio 3\")\n",
        "plt.plot(iter_names, iter_values[3], color=\"green\", marker = \"o\", label=\"Cambio 4\")\n",
        "plt.plot(iter_names, iter_values[4], color=\"black\", marker = \"o\", label=\"Cambio 5\")\n",
        "\n",
        "plt.title(\"F1-score promedio de las tres iteraciones\")\n",
        "plt.xlabel(\"Iteración\")\n",
        "plt.ylabel(\"F1-score\")\n",
        "plt.legend()\n",
        "plt.grid()\n",
        "plt.show()\n",
        "\n",
        "for i in range(len(iter_values)):\n",
        "    print(\"\\nCambio {}: {}\".format(i+1, iter_cambios[i]))\n",
        "    for k in range(2):\n",
        "        print(\"\\t -> Iteración {}: {:.5f}\".format(k+1, iter_values[i][k]))\n"
      ],
      "execution_count": null,
      "outputs": [
        {
          "output_type": "display_data",
          "data": {
            "image/png": "[encoded data removed]",
            "text/plain": [
              "<Figure size 432x288 with 1 Axes>"
            ]
          },
          "metadata": {
            "tags": [],
            "needs_background": "light"
          }
        },
        {
          "output_type": "stream",
          "text": [
            "\n",
            "Cambio 1: Eliminar rbcc\n",
            "\t -> Iteración 1: 0.96349\n",
            "\t -> Iteración 2: 0.98164\n",
            "\n",
            "Cambio 2: Normalizar bgr\n",
            "\t -> Iteración 1: 0.96349\n",
            "\t -> Iteración 2: 0.96652\n",
            "\n",
            "Cambio 3: Normalizar el atributo bu\n",
            "\t -> Iteración 1: 0.96349\n",
            "\t -> Iteración 2: 0.97507\n",
            "\n",
            "Cambio 4: Normalizar ambos\n",
            "\t -> Iteración 1: 0.96349\n",
            "\t -> Iteración 2: 0.96599\n",
            "\n",
            "Cambio 5: Eliminar datos atípicos\n",
            "\t -> Iteración 1: 0.96349\n",
            "\t -> Iteración 2: 0.97067\n"
          ],
          "name": "stdout"
        }
      ]
    },
    {
      "cell_type": "markdown",
      "metadata": {
        "id": "LHGs83cjaNHX"
      },
      "source": [
        "## **Tercera iteración**\n",
        "Para mejorar el desempeño del clasificador en la tercera iteración se decidió aumentar el espacio de búsqueda de hiperparámetros del clasificador. Esto se hizo partiendo desde el final de la segunda iteración, es decir, se tomó cada uno de los *data-set* usados en la segunda iteración y se hizo una búsqueda más profunda de los mejores parámetros, esto con el fin de determinar qué camino del árbol (con nodo raíz en la primera iteración) resulta ser el que mejor desempeño tiene, que sea ascendente en cada iteración."
      ]
    },
    {
      "cell_type": "code",
      "metadata": {
        "id": "tWPTxheJojTa",
        "colab": {
          "base_uri": "https://localhost:8080/"
        },
        "outputId": "09653924-bfa3-4610-ddf8-207c72ade945"
      },
      "source": [
        "# Ajustar los parámetros del clasificador\n",
        "\n",
        "parameter_space_2 = [{'solver': ['newton-cg', 'lbfgs', 'liblinear','sag','saga'], \n",
        "                    'max_iter': [1000,3000,2000],\n",
        "                    'warm_start': [False, True],\n",
        "                    'C': [0.6, 0.5, 0.8, 1, 0.1, 0.4],\n",
        "                    'multi_class': ['auto', 'multinomial'],\n",
        "                    'tol': [1e-4, 1e-5],\n",
        "                    }]\n",
        "\n",
        "print(\"Eliminar rbcc\")\n",
        "f1_c1_3 = regresion(parameter_space_2, mejor[1][0])\n",
        "print(\"\\nNormalizar bgr\")\n",
        "f1_c2_3 = regresion(parameter_space_2, mejor[1][1])\n",
        "print(\"\\nNormalizar el atributo bu\")\n",
        "f1_c3_3 = regresion(parameter_space_2, mejor[1][2])\n",
        "print(\"\\nNormalizar ambos\")\n",
        "f1_c4_3 = regresion(parameter_space_2, mejor[1][3])\n",
        "print(\"\\nEliminar datos atípicos\")\n",
        "f1_c5_3 = regresion(parameter_space_2, mejor[1][4])"
      ],
      "execution_count": null,
      "outputs": [
        {
          "output_type": "stream",
          "text": [
            "Eliminar rbcc\n",
            "F1-score = 0.97196\n",
            "Accuracy = 0.97368\n",
            "\n",
            "F1-score = 0.95413\n",
            "Accuracy = 0.95614\n",
            "\n",
            "F1-score = 0.97436\n",
            "Accuracy = 0.97368\n",
            "\n",
            "F1-score = 1.00000\n",
            "Accuracy = 1.00000\n",
            "\n",
            "F1-score = 0.97436\n",
            "Accuracy = 0.97368\n",
            "\n",
            "F1-score = 0.99010\n",
            "Accuracy = 0.99123\n",
            "\n",
            "F1-score = 0.97561\n",
            "Accuracy = 0.97368\n",
            "\n",
            "F1-score = 1.00000\n",
            "Accuracy = 1.00000\n",
            "\n",
            "F1-score = 0.99083\n",
            "Accuracy = 0.99123\n",
            "\n",
            "F1-score = 0.96923\n",
            "Accuracy = 0.96491\n",
            "\n",
            "Métrica\t\t  Prom\t  Desv\t  Min\t  Max\n",
            "\n",
            "Precision\t0.97904\t0.01760\t0.94545\t1.00000\n",
            "Recall\t\t0.98123\t0.01513\t0.95455\t1.00000\n",
            "F1-score\t0.98006\t0.01397\t0.95413\t1.00000\n",
            "Accuracy\t0.97982\t0.01417\t0.95614\t1.00000\n",
            "\n",
            "Normalizar bgr\n",
            "F1-score = 0.96774\n",
            "Accuracy = 0.96491\n",
            "\n",
            "F1-score = 0.94737\n",
            "Accuracy = 0.94737\n",
            "\n",
            "F1-score = 0.99065\n",
            "Accuracy = 0.99123\n",
            "\n",
            "F1-score = 0.94340\n",
            "Accuracy = 0.94737\n",
            "\n",
            "F1-score = 0.95238\n",
            "Accuracy = 0.94737\n",
            "\n",
            "F1-score = 0.98551\n",
            "Accuracy = 0.98246\n",
            "\n",
            "F1-score = 0.95455\n",
            "Accuracy = 0.94737\n",
            "\n",
            "F1-score = 0.97436\n",
            "Accuracy = 0.97368\n",
            "\n",
            "F1-score = 0.98182\n",
            "Accuracy = 0.98246\n",
            "\n",
            "F1-score = 0.99115\n",
            "Accuracy = 0.99123\n",
            "\n",
            "Métrica\t\t  Prom\t  Desv\t  Min\t  Max\n",
            "\n",
            "Precision\t0.95222\t0.02615\t0.91525\t0.98551\n",
            "Recall\t\t0.98646\t0.01319\t0.96154\t1.00000\n",
            "F1-score\t0.96889\t0.01742\t0.94340\t0.99115\n",
            "Accuracy\t0.96754\t0.01800\t0.94737\t0.99123\n",
            "\n",
            "Normalizar el atributo bu\n",
            "F1-score = 0.98214\n",
            "Accuracy = 0.98246\n",
            "\n",
            "F1-score = 0.95413\n",
            "Accuracy = 0.95614\n",
            "\n",
            "F1-score = 0.99099\n",
            "Accuracy = 0.99123\n",
            "\n",
            "F1-score = 0.96491\n",
            "Accuracy = 0.96491\n",
            "\n",
            "F1-score = 0.98333\n",
            "Accuracy = 0.98246\n",
            "\n"
          ],
          "name": "stdout"
        },
        {
          "output_type": "stream",
          "text": [
            "/usr/local/lib/python3.7/dist-packages/sklearn/linear_model/_sag.py:330: ConvergenceWarning: The max_iter was reached which means the coef_ did not converge\n",
            "  \"the coef_ did not converge\", ConvergenceWarning)\n"
          ],
          "name": "stderr"
        },
        {
          "output_type": "stream",
          "text": [
            "F1-score = 0.99130\n",
            "Accuracy = 0.99123\n",
            "\n",
            "F1-score = 0.97297\n",
            "Accuracy = 0.97368\n",
            "\n",
            "F1-score = 0.97638\n",
            "Accuracy = 0.97368\n",
            "\n",
            "F1-score = 0.97196\n",
            "Accuracy = 0.97368\n",
            "\n",
            "F1-score = 0.97087\n",
            "Accuracy = 0.97368\n",
            "\n",
            "Métrica\t\t  Prom\t  Desv\t  Min\t  Max\n",
            "\n",
            "Precision\t0.96667\t0.02106\t0.93220\t1.00000\n",
            "Recall\t\t0.98591\t0.01913\t0.94545\t1.00000\n",
            "F1-score\t0.97590\t0.01097\t0.95413\t0.99130\n",
            "Accuracy\t0.97632\t0.01042\t0.95614\t0.99123\n",
            "\n",
            "Normalizar ambos\n",
            "F1-score = 0.95798\n",
            "Accuracy = 0.95614\n",
            "\n",
            "F1-score = 0.95146\n",
            "Accuracy = 0.95614\n",
            "\n",
            "F1-score = 0.95238\n",
            "Accuracy = 0.95614\n",
            "\n",
            "F1-score = 0.96825\n",
            "Accuracy = 0.96491\n",
            "\n"
          ],
          "name": "stdout"
        },
        {
          "output_type": "stream",
          "text": [
            "/usr/local/lib/python3.7/dist-packages/sklearn/linear_model/_sag.py:330: ConvergenceWarning: The max_iter was reached which means the coef_ did not converge\n",
            "  \"the coef_ did not converge\", ConvergenceWarning)\n"
          ],
          "name": "stderr"
        },
        {
          "output_type": "stream",
          "text": [
            "F1-score = 0.96226\n",
            "Accuracy = 0.96491\n",
            "\n",
            "F1-score = 0.97561\n",
            "Accuracy = 0.97368\n",
            "\n",
            "F1-score = 0.97196\n",
            "Accuracy = 0.97368\n",
            "\n",
            "F1-score = 0.97744\n",
            "Accuracy = 0.97368\n",
            "\n",
            "F1-score = 0.95455\n",
            "Accuracy = 0.94737\n",
            "\n",
            "F1-score = 0.96491\n",
            "Accuracy = 0.96491\n",
            "\n",
            "Métrica\t\t  Prom\t  Desv\t  Min\t  Max\n",
            "\n",
            "Precision\t0.95285\t0.02138\t0.91304\t0.98361\n",
            "Recall\t\t0.97530\t0.01444\t0.96078\t1.00000\n",
            "F1-score\t0.96368\t0.00904\t0.95146\t0.97744\n",
            "Accuracy\t0.96316\t0.00859\t0.94737\t0.97368\n",
            "\n",
            "Eliminar datos atípicos\n",
            "F1-score = 0.98876\n",
            "Accuracy = 0.98889\n",
            "\n",
            "F1-score = 0.95652\n",
            "Accuracy = 0.95556\n",
            "\n",
            "F1-score = 0.97436\n",
            "Accuracy = 0.97778\n",
            "\n",
            "F1-score = 0.98113\n",
            "Accuracy = 0.97778\n",
            "\n",
            "F1-score = 0.97674\n",
            "Accuracy = 0.97778\n",
            "\n",
            "F1-score = 0.97030\n",
            "Accuracy = 0.96667\n",
            "\n",
            "F1-score = 0.96386\n",
            "Accuracy = 0.96667\n",
            "\n",
            "F1-score = 0.93506\n",
            "Accuracy = 0.94444\n",
            "\n",
            "F1-score = 0.95238\n",
            "Accuracy = 0.95556\n",
            "\n",
            "F1-score = 0.95349\n",
            "Accuracy = 0.95556\n",
            "\n",
            "Métrica\t\t  Prom\t  Desv\t  Min\t  Max\n",
            "\n",
            "Precision\t0.95288\t0.02399\t0.91111\t0.97778\n",
            "Recall\t\t0.97842\t0.01752\t0.94737\t1.00000\n",
            "F1-score\t0.96526\t0.01529\t0.93506\t0.98876\n",
            "Accuracy\t0.96667\t0.01315\t0.94444\t0.98889\n"
          ],
          "name": "stdout"
        }
      ]
    },
    {
      "cell_type": "markdown",
      "metadata": {
        "id": "IbG91AkWq9vQ"
      },
      "source": [
        "#### **Resultados de desempeño**\n",
        "\n",
        "En esta iteración se logró obtener mejoras con el **cambio 2** y el **cambio 3**. Aunque el **cambio 1** fue el que mejoró más en la segunda iteración (y mantuvo su posición como mejor F1-score global), su desempeño no subió en la tercera iteración, lo que confirma que fue una buena idea haber evaluado el desempeño en los diferentes cambios que se hicieron en la segunda iteración, para poder analizar los resultados obtenidos en los diferentes caminos que se tomaron.\n",
        "\n",
        "En la gráfica que se muestra en el siguiente bloque se puede observar mejor estos resultados."
      ]
    },
    {
      "cell_type": "code",
      "metadata": {
        "colab": {
          "base_uri": "https://localhost:8080/",
          "height": 631
        },
        "id": "KQ3SoU6hsK1a",
        "outputId": "d1dfe6d7-40f4-48d7-dc1a-fdced7db9c1a"
      },
      "source": [
        "iter_names = [2, 3]\n",
        "\n",
        "[f1_c1, f1_c2, f1_c3, f1_c4, f1_c5] = mejor[0]\n",
        "\n",
        "iter_values = [[f1_c1, f1_c1_3],\n",
        "               [f1_c2, f1_c2_3],\n",
        "               [f1_c3, f1_c3_3],\n",
        "               [f1_c4, f1_c4_3],\n",
        "               [f1_c5, f1_c5_3]]\n",
        "\n",
        "iter_cambios = [\"Eliminar rbcc\", \"Normalizar bgr\", \"Normalizar el atributo bu\", \"Normalizar ambos\", \"Eliminar datos atípicos\"]\n",
        "\n",
        "plt.plot(iter_names, iter_values[0], color=\"blue\", marker=\"o\", label=\"Cambio 1\")\n",
        "plt.plot(iter_names, iter_values[1], color=\"red\", marker = \"o\", label=\"Cambio 2\")\n",
        "plt.plot(iter_names, iter_values[2], color=\"purple\", marker = \"o\", label=\"Cambio 3\")\n",
        "plt.plot(iter_names, iter_values[3], color=\"green\", marker = \"o\", label=\"Cambio 4\")\n",
        "plt.plot(iter_names, iter_values[4], color=\"black\", marker = \"o\", label=\"Cambio 5\")\n",
        "\n",
        "plt.title(\"F1-score promedio de las tres iteraciones\")\n",
        "plt.xlabel(\"Iteración\")\n",
        "plt.ylabel(\"F1-score\")\n",
        "plt.legend()\n",
        "plt.grid()\n",
        "plt.show()\n",
        "\n",
        "for i in range(len(iter_values)):\n",
        "    print(\"\\nCambio {}: {}\".format(i+1, iter_cambios[i]))\n",
        "    for k in range(2):\n",
        "        print(\"\\t -> Iteración {}: {:.5f}\".format(k+2, iter_values[i][k]))\n"
      ],
      "execution_count": null,
      "outputs": [
        {
          "output_type": "display_data",
          "data": {
            "image/png": "[encoded data removed]",
            "text/plain": [
              "<Figure size 432x288 with 1 Axes>"
            ]
          },
          "metadata": {
            "tags": [],
            "needs_background": "light"
          }
        },
        {
          "output_type": "stream",
          "text": [
            "\n",
            "Cambio 1: Eliminar rbcc\n",
            "\t -> Iteración 2: 0.98164\n",
            "\t -> Iteración 3: 0.98006\n",
            "\n",
            "Cambio 2: Normalizar bgr\n",
            "\t -> Iteración 2: 0.96652\n",
            "\t -> Iteración 3: 0.96889\n",
            "\n",
            "Cambio 3: Normalizar el atributo bu\n",
            "\t -> Iteración 2: 0.97507\n",
            "\t -> Iteración 3: 0.97590\n",
            "\n",
            "Cambio 4: Normalizar ambos\n",
            "\t -> Iteración 2: 0.96599\n",
            "\t -> Iteración 3: 0.96368\n",
            "\n",
            "Cambio 5: Eliminar datos atípicos\n",
            "\t -> Iteración 2: 0.97067\n",
            "\t -> Iteración 3: 0.96526\n"
          ],
          "name": "stdout"
        }
      ]
    },
    {
      "cell_type": "markdown",
      "metadata": {
        "id": "KandZNJLrCdD"
      },
      "source": [
        "## **Comparación de las tres iteraciones**\n",
        "\n",
        "Una vez entramos a comparar el camino que tuvo cada uno de los cambios mencionados en la *Segunda Iteración* y entramos a analizar la gráfica de todos los caminos, nos podemos dar cuenta de lo siguiente:\n",
        "1. Los únicos cambios que presentaron un crecimiento contínuo a lo largo de las tres iteraciones fueron el **cambio 2** y el **cambio 3**.\n",
        "2. El que mejor desempeño obtuvo de los posibles cambios siguió siendo el **cambio 1**, como lo fue en la segunda iteración. Sin embargo, tuvo una leve caída en el desempeño entre la segunda y tercera iteración, lo que confirma que fue una buena idea haber evaluado el desempeño en los diferentes cambios que se hicieron en la segunda iteración, para poder analizar los resultados obtenidos en los diferentes caminos que se tomaron.\n",
        "\n",
        "Con esto nos podemos dar cuenta que muchas veces \"*más es menos\"*, es decir, más cambios pueden perjudicar el desempeño en vez de mejorarlo. ¿Tal vez haber hecho todas las posibles combinaciones desde la segunda iteración pudo haber mostrado un testigo con mejor desempeño? Sí, existe esa posibilidad. Pensamos en probarlo una vez terminamos la tercera iteración pero lo consideramos bastante bien, ya que para correr solo la tercera iteración se demoraba, aproximadamente, 2hrs 30min. Por lo que probar con todas las posibilidades (al menos 24 posibilidades) resultaría sumamente demorado (¡solo con 5 fueron más de 2hrs!).\n",
        "\n",
        "> **Nota:** los resultados sobre los mejores cambios que se realizaron dependen de la partición de los datos, por lo que si se ejecuta de nuevo, no hay garantía de que sigan siendo los mismos. \n"
      ]
    },
    {
      "cell_type": "code",
      "metadata": {
        "colab": {
          "base_uri": "https://localhost:8080/",
          "height": 715
        },
        "id": "fikCccVLrC3r",
        "outputId": "198ee2ba-4df6-45d9-da09-1fcae9a3e40d"
      },
      "source": [
        "iter_names = [1, 2, 3]\n",
        "\n",
        "[f1_c1, f1_c2, f1_c3, f1_c4, f1_c5] = mejor[0]\n",
        "\n",
        "iter_values = [[f1_1, f1_c1, f1_c1_3],\n",
        "               [f1_1, f1_c2, f1_c2_3],\n",
        "               [f1_1, f1_c3, f1_c3_3],\n",
        "               [f1_1, f1_c4, f1_c4_3],\n",
        "               [f1_1, f1_c5, f1_c5_3]]\n",
        "\n",
        "iter_cambios = [\"Eliminar rbcc\", \"Normalizar bgr\", \"Normalizar el atributo bu\", \"Normalizar ambos\", \"Eliminar datos atípicos\"]\n",
        "\n",
        "plt.plot(iter_names, iter_values[0], color=\"blue\", marker=\"o\", label=\"Cambio 1\")\n",
        "plt.plot(iter_names, iter_values[1], color=\"red\", marker = \"o\", label=\"Cambio 2\")\n",
        "plt.plot(iter_names, iter_values[2], color=\"purple\", marker = \"o\", label=\"Cambio 3\")\n",
        "plt.plot(iter_names, iter_values[3], color=\"green\", marker = \"o\", label=\"Cambio 4\")\n",
        "plt.plot(iter_names, iter_values[4], color=\"black\", marker = \"o\", label=\"Cambio 5\")\n",
        "\n",
        "plt.title(\"F1-score promedio de las tres iteraciones\")\n",
        "plt.xlabel(\"Iteración\")\n",
        "plt.ylabel(\"F1-score\")\n",
        "plt.legend()\n",
        "plt.grid()\n",
        "plt.show()\n",
        "\n",
        "for i in range(len(iter_values)):\n",
        "    print(\"\\nCambio {}: {}\".format(i+1, iter_cambios[i]))\n",
        "    for k in range(3):\n",
        "        print(\"\\t -> Iteración {}: {:.5f}\".format(k+1, iter_values[i][k]))\n"
      ],
      "execution_count": null,
      "outputs": [
        {
          "output_type": "display_data",
          "data": {
            "image/png": "[encoded data removed]",
            "text/plain": [
              "<Figure size 432x288 with 1 Axes>"
            ]
          },
          "metadata": {
            "tags": [],
            "needs_background": "light"
          }
        },
        {
          "output_type": "stream",
          "text": [
            "\n",
            "Cambio 1: Eliminar rbcc\n",
            "\t -> Iteración 1: 0.96389\n",
            "\t -> Iteración 2: 0.98164\n",
            "\t -> Iteración 3: 0.98006\n",
            "\n",
            "Cambio 2: Normalizar bgr\n",
            "\t -> Iteración 1: 0.96389\n",
            "\t -> Iteración 2: 0.96652\n",
            "\t -> Iteración 3: 0.96889\n",
            "\n",
            "Cambio 3: Normalizar el atributo bu\n",
            "\t -> Iteración 1: 0.96389\n",
            "\t -> Iteración 2: 0.97507\n",
            "\t -> Iteración 3: 0.97590\n",
            "\n",
            "Cambio 4: Normalizar ambos\n",
            "\t -> Iteración 1: 0.96389\n",
            "\t -> Iteración 2: 0.96599\n",
            "\t -> Iteración 3: 0.96368\n",
            "\n",
            "Cambio 5: Eliminar datos atípicos\n",
            "\t -> Iteración 1: 0.96389\n",
            "\t -> Iteración 2: 0.97067\n",
            "\t -> Iteración 3: 0.96526\n"
          ],
          "name": "stdout"
        }
      ]
    }
  ]
}