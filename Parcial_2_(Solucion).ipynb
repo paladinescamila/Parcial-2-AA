{
  "nbformat": 4,
  "nbformat_minor": 0,
  "metadata": {
    "colab": {
      "name": "Parcial_2_AA.ipynb",
      "provenance": [],
      "collapsed_sections": []
    },
    "kernelspec": {
      "name": "python3",
      "display_name": "Python 3"
    },
    "language_info": {
      "name": "python"
    }
  },
  "cells": [
    {
      "cell_type": "markdown",
      "metadata": {
        "id": "iEcoyryGZ5Xh"
      },
      "source": [
        "# **Primera iteración**"
      ]
    },
    {
      "cell_type": "markdown",
      "metadata": {
        "id": "Z9XmPKYqgeog"
      },
      "source": [
        "### Entendimiento y preparación de los datos"
      ]
    },
    {
      "cell_type": "code",
      "metadata": {
        "id": "QjfgmA7gZnMN"
      },
      "source": [
        "# Importación de librerías\n",
        "import numpy as np\n",
        "import pandas as pd\n",
        "import matplotlib.pyplot as plt\n",
        "from scipy import stats\n",
        "from seaborn import heatmap\n",
        "from sklearn.preprocessing import scale, LabelEncoder, quantile_transform\n",
        "from sklearn.model_selection import train_test_split, GridSearchCV\n",
        "from sklearn.linear_model import LogisticRegression\n",
        "from sklearn import neighbors\n",
        "from sklearn.neighbors import KNeighborsClassifier\n",
        "from sklearn.discriminant_analysis import LinearDiscriminantAnalysis, QuadraticDiscriminantAnalysis\n",
        "from sklearn.metrics import confusion_matrix, precision_recall_fscore_support, classification_report, precision_score, recall_score, f1_score, accuracy_score\n",
        "from sklearn.neural_network import MLPClassifier\n",
        "from sklearn.svm import SVC\n",
        "from sklearn.metrics import plot_confusion_matrix\n",
        "\n",
        "# Nombres de los atributos numéricos y categóricos\n",
        "numeric_att = ['age', 'bp', 'sg', 'al', 'su','bgr', 'bu', 'sc', 'sod', 'pot', \n",
        "               'hemo', 'pcv', 'wbcc', 'rbcc']\n",
        "\n",
        "categorical_att = ['rbc', 'pc', 'pcc', 'ba', 'htn', 'dm', 'cad', 'appet', 'pe', \n",
        "                   'ane', 'class']\n",
        "\n",
        "# Carga los datos (desde un repositorio en GitHub)\n",
        "url=\"https://raw.githubusercontent.com/paladinescamila/Parcial-2-AA/main/data.csv\"\n",
        "data = pd.read_csv(url, header=None)\n",
        "\n",
        "data.columns = [\"age\", \"bp\", \"sg\", \"al\", \"su\", \"rbc\", \"pc\", \"pcc\", \"ba\", \"bgr\", \n",
        "                \"bu\", \"sc\", \"sod\", \"pot\", \"hemo\", \"pcv\", \"wbcc\", \"rbcc\", \"htn\", \n",
        "                \"dm\", \"cad\", \"appet\", \"pe\", \"ane\", \"class\"]\n",
        "\n",
        "data.replace('?', np.nan, inplace=True)\n",
        "\n",
        "# Eliminar los registros con más de 5 datos faltantes (Paso 1 del Plan de Ajuste)\n",
        "data.dropna(thresh=20, inplace=True)\n",
        "\n",
        "# Reemplazar los datos faltantes por la media o la moda (Paso 2 del Plan de Ajuste)\n",
        "for i in numeric_att:\n",
        "    data[i] = pd.to_numeric(data[i], errors='coerce')\n",
        "    data[i].fillna(data[i].mean(), inplace=True)\n",
        "\n",
        "for i in categorical_att:\n",
        "    data[i].fillna(data[i].mode()[0], inplace=True)\n",
        "\n",
        "# Resuelve algunos problemas de escritura de los datos\n",
        "mapping = {\"\\tyes\": \"yes\", \"\\tno\": \"no\", \" yes\": \"yes\", \" no\": \"no\"}\n",
        "boolean = ['htn', 'dm', 'cad', 'pe', 'ane']\n",
        "\n",
        "for i in boolean: data[i] = data[i].replace(mapping)\n",
        "\n",
        "data['class'] = data['class'].replace({\"ckd\\t\": \"ckd\"})\n",
        "\n",
        "data"
      ],
      "execution_count": null,
      "outputs": []
    },
    {
      "cell_type": "code",
      "metadata": {
        "id": "TIxvjd3slu0J"
      },
      "source": [
        "# Cantidad de registros y atributos\n",
        "data.shape"
      ],
      "execution_count": null,
      "outputs": []
    },
    {
      "cell_type": "code",
      "metadata": {
        "id": "chiYJvrFlwe3"
      },
      "source": [
        "# Tipo de los atributos\n",
        "data.dtypes"
      ],
      "execution_count": null,
      "outputs": []
    },
    {
      "cell_type": "code",
      "metadata": {
        "id": "zapJuQx-mFJH"
      },
      "source": [
        "# Medidas de centralidad y dispersión (atributos numéricos)\n",
        "data.describe()"
      ],
      "execution_count": null,
      "outputs": []
    },
    {
      "cell_type": "code",
      "metadata": {
        "id": "S2WebOFkmFEN"
      },
      "source": [
        "# Diagrama de cajas y bigotes (atributos númericos)\n",
        "plt.boxplot((data['age'], data['bp'], data['sg'], data['al'],data['su'], \n",
        "             data['bgr'], data['bu'], data['sc'], data['sod'], data['pot'], \n",
        "             data['hemo'], data['pcv'], data['wbcc'], data['rbcc']))\n",
        "plt.show()"
      ],
      "execution_count": null,
      "outputs": []
    },
    {
      "cell_type": "code",
      "metadata": {
        "id": "l6mHbhuunSOk"
      },
      "source": [
        "# Medidas de centralidad (atributos categóricos)\n",
        "data.mode()"
      ],
      "execution_count": null,
      "outputs": []
    },
    {
      "cell_type": "code",
      "metadata": {
        "id": "0NolFI_PnXhk"
      },
      "source": [
        "# Distribución de los datos (atributos categóricos)\n",
        "for i in categorical_att:\n",
        "    plt.title(i)\n",
        "    plt.hist(data[i])\n",
        "    plt.show()"
      ],
      "execution_count": null,
      "outputs": []
    },
    {
      "cell_type": "code",
      "metadata": {
        "id": "EvCMAyR9nqQi"
      },
      "source": [
        "# Cantidad de duplicados por clase\n",
        "levels = data.groupby(['class'])\n",
        "for name, group in levels:\n",
        "    print(name, group[group.duplicated()].count()[0])"
      ],
      "execution_count": null,
      "outputs": []
    },
    {
      "cell_type": "code",
      "metadata": {
        "id": "iv2BjBFSnYBw"
      },
      "source": [
        "# Correlación (tabla)\n",
        "data.corr()"
      ],
      "execution_count": null,
      "outputs": []
    },
    {
      "cell_type": "code",
      "metadata": {
        "id": "j2ZdBLKcnZw3"
      },
      "source": [
        "# Correlación (gráfica)\n",
        "plt.subplots(figsize=(20,15))\n",
        "heatmap(data.corr(), square=True, annot=True)"
      ],
      "execution_count": null,
      "outputs": []
    },
    {
      "cell_type": "code",
      "metadata": {
        "id": "8OFtN5hqndsE"
      },
      "source": [
        "# Datos atípicos de cada atributo\n",
        "for i in numeric_att:\n",
        "    plt.title(i)\n",
        "    plt.boxplot(data[i])\n",
        "    plt.show()"
      ],
      "execution_count": null,
      "outputs": []
    },
    {
      "cell_type": "code",
      "metadata": {
        "id": "nwhLvV0fnuGi"
      },
      "source": [
        "# Cantidad de registros sin valores atípicos\n",
        "temp = data[numeric_att]\n",
        "temp[(np.abs(stats.zscore(temp)) < 3).all(axis=1)].count()[0]"
      ],
      "execution_count": null,
      "outputs": []
    },
    {
      "cell_type": "code",
      "metadata": {
        "id": "Vk0UgsxXnwQy"
      },
      "source": [
        "# Cantidad de registros con valores atípicos por clase\n",
        "levels = data.groupby(['class'])\n",
        "names, outliers, total = [], [], []\n",
        "for name, group in levels:\n",
        "    numeric = group[numeric_att]\n",
        "    names += [name]\n",
        "    outliers += [numeric[(np.abs(stats.zscore(numeric)) > 3).any(axis=1)].count()[0]]\n",
        "    total += [group.count()[0]]\n",
        "\n",
        "pd.DataFrame({'Outliers': outliers, 'Total':total}, index=names).plot(kind='bar')"
      ],
      "execution_count": null,
      "outputs": []
    },
    {
      "cell_type": "code",
      "metadata": {
        "id": "8SKEAj2mnbYx"
      },
      "source": [
        "# Datos faltantes por cada atributo\n",
        "# for i in categorical_att: print(\"{}\\t{}\".format(i, data[data[i] == \"?\"][i].count()))\n",
        "# for i in numeric_att: print(\"{}\\t{}\".format(i, data[data[i] == -1][i].count()))"
      ],
      "execution_count": null,
      "outputs": []
    },
    {
      "cell_type": "code",
      "metadata": {
        "id": "TIIVULn_bBk-"
      },
      "source": [
        "# Datos faltantes por clase\n",
        "# clase_1, clase_2 = 0, 0\n",
        "# data_1 = data[data['class'] == \"ckd\"]\n",
        "# data_2 = data[data['class'] == \"notckd\"]\n",
        "\n",
        "# for i in categorical_att: \n",
        "#     clase_1 += data_1[data_1[i] == \"?\"][i].count()\n",
        "#     clase_2 += data_2[data_2[i] == \"?\"][i].count()\n",
        "\n",
        "# for i in numeric_att: \n",
        "#     clase_1 += data_1[data_1[i] == -1][i].count()\n",
        "#     clase_2 += data_2[data_2[i] == -1][i].count()\n",
        "\n",
        "# print(\"ckd\", clase_1)\n",
        "# print(\"notckd\", clase_2)"
      ],
      "execution_count": null,
      "outputs": []
    },
    {
      "cell_type": "code",
      "metadata": {
        "id": "6-Va8NDBngay"
      },
      "source": [
        "# Cantidad de registros por clase\n",
        "data['class'].value_counts()"
      ],
      "execution_count": null,
      "outputs": []
    },
    {
      "cell_type": "code",
      "metadata": {
        "id": "71LX_POUnnc-"
      },
      "source": [
        "# Gráfica de la cantidad de registros por clase\n",
        "data['class'].value_counts().plot(kind='bar')"
      ],
      "execution_count": null,
      "outputs": []
    },
    {
      "cell_type": "markdown",
      "metadata": {
        "id": "-V0LirgYUvEz"
      },
      "source": [
        "#### Conclusiones sobre el entendimiento de los datos\n",
        "\n",
        "- No hay registros duplicados.\n",
        "- Los atributos \"pcv\" y \"hemo\" son altamente correlacionados (0.85), por lo que se eliminará uno de ellos, así como \"rbcc\" y \"hemo\".\n",
        "- Hay bastantes atributos con valores atípicos en ambas clases, pero consideramos que son importantes para la construcción del modelo, por lo que no se van a eliminar.\n",
        "- Hay 242 registros con al menos un dato faltante.\n",
        "- Un 62.5% de los registros hacen parte de la clase mayoritaria, por lo que no está completamente balanceado.\n",
        "- La principal dificultad con el dataset es que hay bastantes datos faltantes.\n",
        "- No es necesario discretizar algún atributo.\n",
        "- Es necesario normalizar la mayoría de los atributos.\n",
        "- Es necesario pasar los atributos categóricos a numéricos.\n",
        "\n",
        "#### Plan de ajuste de datos\n",
        "\n",
        "1. Eliminar los registros con más de 5 datos faltantes (realizado anteriormente).\n",
        "2. Reemplazar los datos faltantes por la media o la moda según el tipo del atributo (realizado anteriormente).\n",
        "3. Eliminar los atributos \"pcv\" y \"rbcc\" para eliminar la correlación con \"hemo\".\n",
        "4. Normalizar el atributo \"wbcc\".\n",
        "5. Pasar los atributos categóricos a numéricos.\n",
        "\n",
        "> Los pasos 1 y 2 se realizaron necesariamente al principio para poder analizar las estadísticas."
      ]
    },
    {
      "cell_type": "code",
      "metadata": {
        "id": "c2lIyjn_2sR7"
      },
      "source": [
        "# Paso 3: Eliminar los atributos \"pcv\" y \"rbcc\"\n",
        "data = data.drop('pcv', axis=1)\n",
        "data = data.drop('rbcc', axis=1)\n",
        "data"
      ],
      "execution_count": null,
      "outputs": []
    },
    {
      "cell_type": "code",
      "metadata": {
        "id": "TvcNoxSJzNxi"
      },
      "source": [
        "# Paso 4: Normalizar los atributos numéricos\n",
        "data['wbcc'] = scale(data['wbcc'])\n",
        "data"
      ],
      "execution_count": null,
      "outputs": []
    },
    {
      "cell_type": "code",
      "metadata": {
        "id": "S8a71VC12ycC"
      },
      "source": [
        "# Paso 5: Pasar los atributos categóricos a numéricos\n",
        "categorize = data.apply(LabelEncoder().fit_transform)\n",
        "for i in categorical_att:\n",
        "    data[i] = categorize[i]\n",
        "data"
      ],
      "execution_count": null,
      "outputs": []
    },
    {
      "cell_type": "markdown",
      "metadata": {
        "id": "dD-WeGefPVOc"
      },
      "source": [
        "### Entrenamiento de los modelos"
      ]
    },
    {
      "cell_type": "code",
      "metadata": {
        "id": "ZqcJpOmE5Ika"
      },
      "source": [
        "# Separación de los datos\n",
        "X, y = data.drop('class', axis=1), data['class']\n",
        "f1s = [0 for _ in range(5)]\n",
        "\n",
        "def print_metrics(metrics):\n",
        "\n",
        "    print(\"Métrica\\tPromedio\\tDesviación\\tMínimo\\tMáximo\")\n",
        "    nombres = [\"Precision\", \"Recall\", \"F1-score\", \"Accuracy\"]\n",
        "\n",
        "    for i in range(4):\n",
        "        mean = np.mean(metrics[i])\n",
        "        std = np.std(metrics[i])\n",
        "        min_ = np.min(metrics[i])\n",
        "        max_ = np.max(metrics[i])\n",
        "        print(\"{}\\t{:.5f}\\t{:.5f}\\t{:.5f}\\t{:.5f}\".format(nombres[i], mean, std, min_, max_))\n"
      ],
      "execution_count": 13,
      "outputs": []
    },
    {
      "cell_type": "code",
      "metadata": {
        "id": "febE9m0AQHP8"
      },
      "source": [
        "# Perceptrón\n",
        "\n",
        "parameter_space = [{'hidden_layer_sizes': [(10,10,10,10), (50,50,50,50), (100,100,100)], \n",
        "                        'activation': ['logistic', 'tanh', 'relu'], 'max_iter': [700, 1000],\n",
        "                        }]\n",
        "\n",
        "metrics = [[] for i in range(4)]\n",
        "\n",
        "for i in range(10):\n",
        "\n",
        "    X_train, X_test, y_train, y_test = train_test_split(X, y, test_size=0.3)\n",
        "    MLP = MLPClassifier()\n",
        "\n",
        "    MLP = GridSearchCV(MLP, parameter_space, n_jobs=-1, cv=7, refit=True)\n",
        "    MLP.fit(X_train, y_train)\n",
        "\n",
        "    # print(\"Mejores parametros:\")\n",
        "    # print(MLP.best_params_)\n",
        "        \n",
        "    prediction = MLP.predict(X_test)\n",
        "\n",
        "    metrics[0].append(precision_score(y_test, prediction))\n",
        "    metrics[1].append(recall_score(y_test, prediction))\n",
        "    metrics[2].append(f1_score(y_test, prediction))\n",
        "    metrics[3].append(accuracy_score(y_test, prediction))\n",
        "\n",
        "f1s[0] = np.mean(metrics[2])\n",
        "print_metrics(metrics)"
      ],
      "execution_count": null,
      "outputs": []
    },
    {
      "cell_type": "code",
      "metadata": {
        "id": "sLS6U-lq42uM"
      },
      "source": [
        "# Máquinas de vectores de soporte\n",
        "\n",
        "parameter_space = [{'C': [1.5, 2, 2.5, 3], 'kernel': ['linear','rbf'], \n",
        "                    'gamma': ['scale', 'auto']}]\n",
        "\n",
        "metrics = [[] for i in range(4)]\n",
        "\n",
        "for i in range(10):\n",
        "\n",
        "    X_train, X_test, y_train, y_test = train_test_split(X, y, test_size=0.3)\n",
        "    SVM = SVC()\n",
        "\n",
        "    SVM = GridSearchCV(SVM, parameter_space, n_jobs=-1, cv=5, refit=True)\n",
        "    SVM.fit(X_train, y_train)\n",
        "\n",
        "    # print(\"Mejores parametros:\")\n",
        "    # print(SVM.best_params_)\n",
        "        \n",
        "    prediction = SVM.predict(X_test)\n",
        "\n",
        "    metrics[0].append(precision_score(y_test, prediction))\n",
        "    metrics[1].append(recall_score(y_test, prediction))\n",
        "    metrics[2].append(f1_score(y_test, prediction))\n",
        "    metrics[3].append(accuracy_score(y_test, prediction))\n",
        "\n",
        "f1s[1] = np.mean(metrics[2])\n",
        "print_metrics(metrics)"
      ],
      "execution_count": null,
      "outputs": []
    },
    {
      "cell_type": "code",
      "metadata": {
        "id": "4S5oVF7h4yRs"
      },
      "source": [
        "# Regresión Logística\n",
        "\n",
        "parameter_space = [{'solver': ['newton-cg', 'lbfgs','liblinear','sag','saga'], \n",
        "                    'max_iter': [2000,3000,4000,5000],\n",
        "                    }]\n",
        "\n",
        "metrics = [[] for i in range(4)]\n",
        "\n",
        "for i in range(10):\n",
        "    \n",
        "    X_train, X_test, y_train, y_test = train_test_split(X, y, test_size=0.3)\n",
        "    clf = LogisticRegression()\n",
        "\n",
        "    clf = GridSearchCV(clf, parameter_space, n_jobs=-1, cv=3, refit=True)\n",
        "    clf.fit(X_train,y_train)\n",
        "\n",
        "    # print(\"Mejores parametros:\")\n",
        "    # print(clf.best_params_)\n",
        "    \n",
        "    prediction = clf.predict(X_test)\n",
        "\n",
        "    metrics[0].append(precision_score(y_test, prediction))\n",
        "    metrics[1].append(recall_score(y_test, prediction))\n",
        "    metrics[2].append(f1_score(y_test, prediction))\n",
        "    metrics[3].append(accuracy_score(y_test, prediction))\n",
        "\n",
        "f1s[2] = np.mean(metrics[2])\n",
        "print_metrics(metrics)"
      ],
      "execution_count": null,
      "outputs": []
    },
    {
      "cell_type": "code",
      "metadata": {
        "id": "cfM_IUzq40-g"
      },
      "source": [
        "# K-vecinos\n",
        "\n",
        "parameter_space = [{'n_neighbors': [i for i in range(3, 20)], \n",
        "                    'algorithm': ['auto', 'ball_tree', 'kd_tree', 'brute'],\n",
        "                    }]\n",
        "\n",
        "metrics = [[] for i in range(4)]\n",
        "\n",
        "for i in range(10):\n",
        "\n",
        "    X_train, X_test, y_train, y_test = train_test_split(X, y, test_size=0.3)\n",
        "    neigh = KNeighborsClassifier()\n",
        "\n",
        "    neigh = GridSearchCV(neigh, parameter_space, n_jobs=-1, cv=10, refit=True)\n",
        "    neigh.fit(X_train, y_train)\n",
        "\n",
        "    # print(\"Mejores parametros:\")\n",
        "    # print(neigh.best_params_)\n",
        "\n",
        "    prediction = neigh.predict(X_test)\n",
        "\n",
        "    metrics[0].append(precision_score(y_test, prediction))\n",
        "    metrics[1].append(recall_score(y_test, prediction))\n",
        "    metrics[2].append(f1_score(y_test, prediction))\n",
        "    metrics[3].append(accuracy_score(y_test, prediction))\n",
        "\n",
        "f1s[3] = np.mean(metrics[2])\n",
        "print_metrics(metrics)"
      ],
      "execution_count": null,
      "outputs": []
    },
    {
      "cell_type": "code",
      "metadata": {
        "id": "xBuT6vrS40xu"
      },
      "source": [
        "# Análisis Discriminante Lineal\n",
        "\n",
        "parameter_space = [{'solver': ['svd', 'lsqr', 'eigen']}]\n",
        "\n",
        "metrics = [[] for i in range(4)]\n",
        "\n",
        "for i in range(10):\n",
        "\n",
        "    X_train, X_test, y_train, y_test = train_test_split(X, y, test_size=0.3)\n",
        "    LDA = LinearDiscriminantAnalysis()\n",
        "\n",
        "    LDA = GridSearchCV(LDA, parameter_space, n_jobs=-1, cv=3, refit=True)\n",
        "    LDA.fit(X_train,y_train)\n",
        "\n",
        "    # print(\"Mejores parametros:\")\n",
        "    # print(LDA.best_params_)\n",
        "        \n",
        "    prediction = LDA.predict(X_test)\n",
        "\n",
        "    metrics[0].append(precision_score(y_test, prediction))\n",
        "    metrics[1].append(recall_score(y_test, prediction))\n",
        "    metrics[2].append(f1_score(y_test, prediction))\n",
        "    metrics[3].append(accuracy_score(y_test, prediction))\n",
        "\n",
        "f1s[4] = np.mean(metrics[2])\n",
        "print_metrics(metrics)"
      ],
      "execution_count": null,
      "outputs": []
    },
    {
      "cell_type": "markdown",
      "metadata": {
        "id": "COiQ7eN7QTCS"
      },
      "source": [
        "### Análisis de los resultados\n",
        "\n",
        "Como se puede observar en la siguiente gráfica, los métodos que tuvieron el mejor desempeño fueron SVM y Regresión Logística, teniendo en cuenta la estimación de parámetros que se hizo.\n",
        "\n"
      ]
    },
    {
      "cell_type": "code",
      "metadata": {
        "id": "TH1hDNDGQegf",
        "colab": {
          "base_uri": "https://localhost:8080/",
          "height": 365
        },
        "outputId": "f41f3efe-aad8-44d0-f9f2-4b690b2fc39c"
      },
      "source": [
        "techniques = ['Perceptrón', 'SVM', 'Regresión Logística', 'K-vecinos', 'Análisis Discriminante Lineal']\n",
        "pd.DataFrame({'F1-score': f1s}, index=techniques).plot(kind='barh', title=\"Promedios de F1-score\")\n",
        "for i in range(5): print(\"{}: {:.5f}\".format(techniques[i], f1s[i]))"
      ],
      "execution_count": null,
      "outputs": [
        {
          "output_type": "stream",
          "text": [
            "Perceptrón: 0.91714\n",
            "SVM: 0.96751\n",
            "Regresión Logística: 0.96637\n",
            "K-vecinos: 0.83067\n",
            "Análisis Discriminante Lineal: 0.93929\n"
          ],
          "name": "stdout"
        },
        {
          "output_type": "display_data",
          "data": {
            "image/png": "[encoded data removed]",
            "text/plain": [
              "<Figure size 432x288 with 1 Axes>"
            ]
          },
          "metadata": {
            "tags": [],
            "needs_background": "light"
          }
        }
      ]
    },
    {
      "cell_type": "markdown",
      "metadata": {
        "id": "Vq9ahmrPaJ9s"
      },
      "source": [
        "# **Segunda iteración**"
      ]
    },
    {
      "cell_type": "code",
      "metadata": {
        "id": "Q8aV-BqIaMwk"
      },
      "source": [
        ""
      ],
      "execution_count": null,
      "outputs": []
    },
    {
      "cell_type": "markdown",
      "metadata": {
        "id": "LHGs83cjaNHX"
      },
      "source": [
        "# **Tercera iteración**"
      ]
    },
    {
      "cell_type": "code",
      "metadata": {
        "id": "5VTlreWcaNuV"
      },
      "source": [
        ""
      ],
      "execution_count": null,
      "outputs": []
    }
  ]
}